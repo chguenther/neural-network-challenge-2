{
  "cells": [
    {
      "cell_type": "markdown",
      "metadata": {
        "id": "alIIEHibGc3M"
      },
      "source": [
        "## Part 1: Data Retrieval"
      ]
    },
    {
      "cell_type": "markdown",
      "metadata": {},
      "source": [
        "### 1.1. Retrieve the data"
      ]
    },
    {
      "cell_type": "code",
      "execution_count": 131,
      "metadata": {
        "colab": {
          "base_uri": "https://localhost:8080/",
          "height": 325
        },
        "id": "6eDUJ4NtGc3P",
        "outputId": "2480098c-135c-4cbf-9552-018494ee8ff5"
      },
      "outputs": [
        {
          "data": {
            "text/html": [
              "<div>\n",
              "<style scoped>\n",
              "    .dataframe tbody tr th:only-of-type {\n",
              "        vertical-align: middle;\n",
              "    }\n",
              "\n",
              "    .dataframe tbody tr th {\n",
              "        vertical-align: top;\n",
              "    }\n",
              "\n",
              "    .dataframe thead th {\n",
              "        text-align: right;\n",
              "    }\n",
              "</style>\n",
              "<table border=\"1\" class=\"dataframe\">\n",
              "  <thead>\n",
              "    <tr style=\"text-align: right;\">\n",
              "      <th></th>\n",
              "      <th>Age</th>\n",
              "      <th>Attrition</th>\n",
              "      <th>BusinessTravel</th>\n",
              "      <th>Department</th>\n",
              "      <th>DistanceFromHome</th>\n",
              "      <th>Education</th>\n",
              "      <th>EducationField</th>\n",
              "      <th>EnvironmentSatisfaction</th>\n",
              "      <th>HourlyRate</th>\n",
              "      <th>JobInvolvement</th>\n",
              "      <th>...</th>\n",
              "      <th>PerformanceRating</th>\n",
              "      <th>RelationshipSatisfaction</th>\n",
              "      <th>StockOptionLevel</th>\n",
              "      <th>TotalWorkingYears</th>\n",
              "      <th>TrainingTimesLastYear</th>\n",
              "      <th>WorkLifeBalance</th>\n",
              "      <th>YearsAtCompany</th>\n",
              "      <th>YearsInCurrentRole</th>\n",
              "      <th>YearsSinceLastPromotion</th>\n",
              "      <th>YearsWithCurrManager</th>\n",
              "    </tr>\n",
              "  </thead>\n",
              "  <tbody>\n",
              "    <tr>\n",
              "      <th>0</th>\n",
              "      <td>41</td>\n",
              "      <td>Yes</td>\n",
              "      <td>Travel_Rarely</td>\n",
              "      <td>Sales</td>\n",
              "      <td>1</td>\n",
              "      <td>2</td>\n",
              "      <td>Life Sciences</td>\n",
              "      <td>2</td>\n",
              "      <td>94</td>\n",
              "      <td>3</td>\n",
              "      <td>...</td>\n",
              "      <td>3</td>\n",
              "      <td>1</td>\n",
              "      <td>0</td>\n",
              "      <td>8</td>\n",
              "      <td>0</td>\n",
              "      <td>1</td>\n",
              "      <td>6</td>\n",
              "      <td>4</td>\n",
              "      <td>0</td>\n",
              "      <td>5</td>\n",
              "    </tr>\n",
              "    <tr>\n",
              "      <th>1</th>\n",
              "      <td>49</td>\n",
              "      <td>No</td>\n",
              "      <td>Travel_Frequently</td>\n",
              "      <td>Research &amp; Development</td>\n",
              "      <td>8</td>\n",
              "      <td>1</td>\n",
              "      <td>Life Sciences</td>\n",
              "      <td>3</td>\n",
              "      <td>61</td>\n",
              "      <td>2</td>\n",
              "      <td>...</td>\n",
              "      <td>4</td>\n",
              "      <td>4</td>\n",
              "      <td>1</td>\n",
              "      <td>10</td>\n",
              "      <td>3</td>\n",
              "      <td>3</td>\n",
              "      <td>10</td>\n",
              "      <td>7</td>\n",
              "      <td>1</td>\n",
              "      <td>7</td>\n",
              "    </tr>\n",
              "    <tr>\n",
              "      <th>2</th>\n",
              "      <td>37</td>\n",
              "      <td>Yes</td>\n",
              "      <td>Travel_Rarely</td>\n",
              "      <td>Research &amp; Development</td>\n",
              "      <td>2</td>\n",
              "      <td>2</td>\n",
              "      <td>Other</td>\n",
              "      <td>4</td>\n",
              "      <td>92</td>\n",
              "      <td>2</td>\n",
              "      <td>...</td>\n",
              "      <td>3</td>\n",
              "      <td>2</td>\n",
              "      <td>0</td>\n",
              "      <td>7</td>\n",
              "      <td>3</td>\n",
              "      <td>3</td>\n",
              "      <td>0</td>\n",
              "      <td>0</td>\n",
              "      <td>0</td>\n",
              "      <td>0</td>\n",
              "    </tr>\n",
              "    <tr>\n",
              "      <th>3</th>\n",
              "      <td>33</td>\n",
              "      <td>No</td>\n",
              "      <td>Travel_Frequently</td>\n",
              "      <td>Research &amp; Development</td>\n",
              "      <td>3</td>\n",
              "      <td>4</td>\n",
              "      <td>Life Sciences</td>\n",
              "      <td>4</td>\n",
              "      <td>56</td>\n",
              "      <td>3</td>\n",
              "      <td>...</td>\n",
              "      <td>3</td>\n",
              "      <td>3</td>\n",
              "      <td>0</td>\n",
              "      <td>8</td>\n",
              "      <td>3</td>\n",
              "      <td>3</td>\n",
              "      <td>8</td>\n",
              "      <td>7</td>\n",
              "      <td>3</td>\n",
              "      <td>0</td>\n",
              "    </tr>\n",
              "    <tr>\n",
              "      <th>4</th>\n",
              "      <td>27</td>\n",
              "      <td>No</td>\n",
              "      <td>Travel_Rarely</td>\n",
              "      <td>Research &amp; Development</td>\n",
              "      <td>2</td>\n",
              "      <td>1</td>\n",
              "      <td>Medical</td>\n",
              "      <td>1</td>\n",
              "      <td>40</td>\n",
              "      <td>3</td>\n",
              "      <td>...</td>\n",
              "      <td>3</td>\n",
              "      <td>4</td>\n",
              "      <td>1</td>\n",
              "      <td>6</td>\n",
              "      <td>3</td>\n",
              "      <td>3</td>\n",
              "      <td>2</td>\n",
              "      <td>2</td>\n",
              "      <td>2</td>\n",
              "      <td>2</td>\n",
              "    </tr>\n",
              "  </tbody>\n",
              "</table>\n",
              "<p>5 rows × 27 columns</p>\n",
              "</div>"
            ],
            "text/plain": [
              "   Age Attrition     BusinessTravel              Department  DistanceFromHome  \\\n",
              "0   41       Yes      Travel_Rarely                   Sales                 1   \n",
              "1   49        No  Travel_Frequently  Research & Development                 8   \n",
              "2   37       Yes      Travel_Rarely  Research & Development                 2   \n",
              "3   33        No  Travel_Frequently  Research & Development                 3   \n",
              "4   27        No      Travel_Rarely  Research & Development                 2   \n",
              "\n",
              "   Education EducationField  EnvironmentSatisfaction  HourlyRate  \\\n",
              "0          2  Life Sciences                        2          94   \n",
              "1          1  Life Sciences                        3          61   \n",
              "2          2          Other                        4          92   \n",
              "3          4  Life Sciences                        4          56   \n",
              "4          1        Medical                        1          40   \n",
              "\n",
              "   JobInvolvement  ...  PerformanceRating RelationshipSatisfaction  \\\n",
              "0               3  ...                  3                        1   \n",
              "1               2  ...                  4                        4   \n",
              "2               2  ...                  3                        2   \n",
              "3               3  ...                  3                        3   \n",
              "4               3  ...                  3                        4   \n",
              "\n",
              "   StockOptionLevel TotalWorkingYears  TrainingTimesLastYear WorkLifeBalance  \\\n",
              "0                 0                 8                      0               1   \n",
              "1                 1                10                      3               3   \n",
              "2                 0                 7                      3               3   \n",
              "3                 0                 8                      3               3   \n",
              "4                 1                 6                      3               3   \n",
              "\n",
              "   YearsAtCompany  YearsInCurrentRole  YearsSinceLastPromotion  \\\n",
              "0               6                   4                        0   \n",
              "1              10                   7                        1   \n",
              "2               0                   0                        0   \n",
              "3               8                   7                        3   \n",
              "4               2                   2                        2   \n",
              "\n",
              "   YearsWithCurrManager  \n",
              "0                     5  \n",
              "1                     7  \n",
              "2                     0  \n",
              "3                     0  \n",
              "4                     2  \n",
              "\n",
              "[5 rows x 27 columns]"
            ]
          },
          "execution_count": 131,
          "metadata": {},
          "output_type": "execute_result"
        }
      ],
      "source": [
        "# Import our dependencies\n",
        "from sklearn.preprocessing import OneHotEncoder\n",
        "from sklearn.model_selection import train_test_split\n",
        "from sklearn.preprocessing import StandardScaler\n",
        "import pandas as pd\n",
        "import numpy as np\n",
        "from tensorflow.keras.models import Model\n",
        "from tensorflow.keras import layers\n",
        "\n",
        "#  Import and read the attrition data\n",
        "attrition_df = pd.read_csv('https://static.bc-edx.com/ai/ail-v-1-0/m19/lms/datasets/attrition.csv')\n",
        "attrition_df.head()"
      ]
    },
    {
      "cell_type": "markdown",
      "metadata": {},
      "source": [
        "## Part 2: Preprocessing"
      ]
    },
    {
      "cell_type": "markdown",
      "metadata": {},
      "source": [
        "### 2.1. Perform some Exploratory Data Analysis "
      ]
    },
    {
      "cell_type": "code",
      "execution_count": 132,
      "metadata": {
        "colab": {
          "base_uri": "https://localhost:8080/"
        },
        "id": "g22aQSY4Gc3Q",
        "outputId": "1f5c13c1-b981-4e40-a7ed-dd3fe6f1b81e"
      },
      "outputs": [
        {
          "data": {
            "text/plain": [
              "Age                         43\n",
              "Attrition                    2\n",
              "BusinessTravel               3\n",
              "Department                   3\n",
              "DistanceFromHome            29\n",
              "Education                    5\n",
              "EducationField               6\n",
              "EnvironmentSatisfaction      4\n",
              "HourlyRate                  71\n",
              "JobInvolvement               4\n",
              "JobLevel                     5\n",
              "JobRole                      9\n",
              "JobSatisfaction              4\n",
              "MaritalStatus                3\n",
              "NumCompaniesWorked          10\n",
              "OverTime                     2\n",
              "PercentSalaryHike           15\n",
              "PerformanceRating            2\n",
              "RelationshipSatisfaction     4\n",
              "StockOptionLevel             4\n",
              "TotalWorkingYears           40\n",
              "TrainingTimesLastYear        7\n",
              "WorkLifeBalance              4\n",
              "YearsAtCompany              37\n",
              "YearsInCurrentRole          19\n",
              "YearsSinceLastPromotion     16\n",
              "YearsWithCurrManager        18\n",
              "dtype: int64"
            ]
          },
          "execution_count": 132,
          "metadata": {},
          "output_type": "execute_result"
        }
      ],
      "source": [
        "# Determine the number of unique values in each column.\n",
        "attrition_df.nunique()"
      ]
    },
    {
      "cell_type": "code",
      "execution_count": 133,
      "metadata": {},
      "outputs": [
        {
          "name": "stdout",
          "output_type": "stream",
          "text": [
            "<class 'pandas.core.frame.DataFrame'>\n",
            "RangeIndex: 1470 entries, 0 to 1469\n",
            "Data columns (total 27 columns):\n",
            " #   Column                    Non-Null Count  Dtype \n",
            "---  ------                    --------------  ----- \n",
            " 0   Age                       1470 non-null   int64 \n",
            " 1   Attrition                 1470 non-null   object\n",
            " 2   BusinessTravel            1470 non-null   object\n",
            " 3   Department                1470 non-null   object\n",
            " 4   DistanceFromHome          1470 non-null   int64 \n",
            " 5   Education                 1470 non-null   int64 \n",
            " 6   EducationField            1470 non-null   object\n",
            " 7   EnvironmentSatisfaction   1470 non-null   int64 \n",
            " 8   HourlyRate                1470 non-null   int64 \n",
            " 9   JobInvolvement            1470 non-null   int64 \n",
            " 10  JobLevel                  1470 non-null   int64 \n",
            " 11  JobRole                   1470 non-null   object\n",
            " 12  JobSatisfaction           1470 non-null   int64 \n",
            " 13  MaritalStatus             1470 non-null   object\n",
            " 14  NumCompaniesWorked        1470 non-null   int64 \n",
            " 15  OverTime                  1470 non-null   object\n",
            " 16  PercentSalaryHike         1470 non-null   int64 \n",
            " 17  PerformanceRating         1470 non-null   int64 \n",
            " 18  RelationshipSatisfaction  1470 non-null   int64 \n",
            " 19  StockOptionLevel          1470 non-null   int64 \n",
            " 20  TotalWorkingYears         1470 non-null   int64 \n",
            " 21  TrainingTimesLastYear     1470 non-null   int64 \n",
            " 22  WorkLifeBalance           1470 non-null   int64 \n",
            " 23  YearsAtCompany            1470 non-null   int64 \n",
            " 24  YearsInCurrentRole        1470 non-null   int64 \n",
            " 25  YearsSinceLastPromotion   1470 non-null   int64 \n",
            " 26  YearsWithCurrManager      1470 non-null   int64 \n",
            "dtypes: int64(20), object(7)\n",
            "memory usage: 310.2+ KB\n"
          ]
        }
      ],
      "source": [
        "# Determine which features are numerical. Also, determine whether there are any null values \n",
        "attrition_df.info()"
      ]
    },
    {
      "cell_type": "markdown",
      "metadata": {},
      "source": [
        "No null values"
      ]
    },
    {
      "cell_type": "markdown",
      "metadata": {},
      "source": [
        "### 2.2. Create X dataset\n",
        "**Note:** We will use all columns except `Attrition` and `Department` which are the target columns."
      ]
    },
    {
      "cell_type": "code",
      "execution_count": 134,
      "metadata": {
        "colab": {
          "base_uri": "https://localhost:8080/"
        },
        "id": "Virka0zLGc3R",
        "outputId": "dd5aee3a-9458-4ba6-e857-1b234de40915"
      },
      "outputs": [
        {
          "data": {
            "text/plain": [
              "Age                          int64\n",
              "BusinessTravel              object\n",
              "DistanceFromHome             int64\n",
              "Education                    int64\n",
              "EducationField              object\n",
              "EnvironmentSatisfaction      int64\n",
              "HourlyRate                   int64\n",
              "JobInvolvement               int64\n",
              "JobLevel                     int64\n",
              "JobRole                     object\n",
              "JobSatisfaction              int64\n",
              "MaritalStatus               object\n",
              "NumCompaniesWorked           int64\n",
              "OverTime                    object\n",
              "PercentSalaryHike            int64\n",
              "PerformanceRating            int64\n",
              "RelationshipSatisfaction     int64\n",
              "StockOptionLevel             int64\n",
              "TotalWorkingYears            int64\n",
              "TrainingTimesLastYear        int64\n",
              "WorkLifeBalance              int64\n",
              "YearsAtCompany               int64\n",
              "YearsInCurrentRole           int64\n",
              "YearsSinceLastPromotion      int64\n",
              "YearsWithCurrManager         int64\n",
              "dtype: object"
            ]
          },
          "metadata": {},
          "output_type": "display_data"
        }
      ],
      "source": [
        "# Create X_df\n",
        "X_df = attrition_df.drop(columns=['Attrition', 'Department'])\n",
        "\n",
        "# Show the data types for X_df\n",
        "display(X_df.dtypes)"
      ]
    },
    {
      "cell_type": "markdown",
      "metadata": {},
      "source": [
        "#### Preprocess the non-numeric features in the X dataset"
      ]
    },
    {
      "cell_type": "markdown",
      "metadata": {},
      "source": [
        "##### Determine value counts for each non-numeric feature"
      ]
    },
    {
      "cell_type": "code",
      "execution_count": 135,
      "metadata": {},
      "outputs": [
        {
          "data": {
            "text/plain": [
              "BusinessTravel\n",
              "Travel_Rarely        1043\n",
              "Travel_Frequently     277\n",
              "Non-Travel            150\n",
              "Name: count, dtype: int64"
            ]
          },
          "metadata": {},
          "output_type": "display_data"
        },
        {
          "name": "stdout",
          "output_type": "stream",
          "text": [
            "3\n"
          ]
        },
        {
          "data": {
            "text/plain": [
              "EducationField\n",
              "Life Sciences       606\n",
              "Medical             464\n",
              "Marketing           159\n",
              "Technical Degree    132\n",
              "Other                82\n",
              "Human Resources      27\n",
              "Name: count, dtype: int64"
            ]
          },
          "metadata": {},
          "output_type": "display_data"
        },
        {
          "name": "stdout",
          "output_type": "stream",
          "text": [
            "6\n"
          ]
        },
        {
          "data": {
            "text/plain": [
              "JobRole\n",
              "Sales Executive              326\n",
              "Research Scientist           292\n",
              "Laboratory Technician        259\n",
              "Manufacturing Director       145\n",
              "Healthcare Representative    131\n",
              "Manager                      102\n",
              "Sales Representative          83\n",
              "Research Director             80\n",
              "Human Resources               52\n",
              "Name: count, dtype: int64"
            ]
          },
          "metadata": {},
          "output_type": "display_data"
        },
        {
          "name": "stdout",
          "output_type": "stream",
          "text": [
            "9\n"
          ]
        },
        {
          "data": {
            "text/plain": [
              "MaritalStatus\n",
              "Married     673\n",
              "Single      470\n",
              "Divorced    327\n",
              "Name: count, dtype: int64"
            ]
          },
          "metadata": {},
          "output_type": "display_data"
        },
        {
          "name": "stdout",
          "output_type": "stream",
          "text": [
            "3\n"
          ]
        },
        {
          "data": {
            "text/plain": [
              "OverTime\n",
              "No     1054\n",
              "Yes     416\n",
              "Name: count, dtype: int64"
            ]
          },
          "metadata": {},
          "output_type": "display_data"
        },
        {
          "name": "stdout",
          "output_type": "stream",
          "text": [
            "2\n"
          ]
        }
      ],
      "source": [
        "# Collect all non-numric features\n",
        "non_num_df = X_df.select_dtypes(include=object)\n",
        "\n",
        "# Determine value counts for each non-numeric feature to determine how to encode them\n",
        "for column in non_num_df.columns:\n",
        "    display(non_num_df[column].value_counts())\n",
        "    print(len(non_num_df[column].value_counts()))"
      ]
    },
    {
      "cell_type": "markdown",
      "metadata": {},
      "source": [
        "None of the non-numeric features have an obvious order to them. Therefore, we can use OneHotEncoder for all of them."
      ]
    },
    {
      "cell_type": "markdown",
      "metadata": {},
      "source": [
        "##### Define a function for the encoding\n",
        "**Note:** We will define the function in such a way that we can also use it to encode the colmns of the y dataset."
      ]
    },
    {
      "cell_type": "code",
      "execution_count": 136,
      "metadata": {},
      "outputs": [],
      "source": [
        "def encode_feature(feature):\n",
        "    '''Takes a feature as input and uses OneHotEncoder to encode that feature.\n",
        "       Returns a DataFrame with encoded columns. If the value count of the feature is 2 (binary) drops\n",
        "       the first encoded column as it is redundant\n",
        "       \n",
        "       Input: Pandas DataFrame with one feature to be encoded\n",
        "       \n",
        "       Output: Pandas DataFrame with encoded columns.\n",
        "    '''\n",
        "\n",
        "    # Instantiate an instance of OneHotEncoder depending on whether the\n",
        "    # value count of the feature is 2 or not \n",
        "    if len(feature.value_counts()) == 2:\n",
        "        feature_encoder = OneHotEncoder(sparse_output=False, drop='first')\n",
        "    else:\n",
        "        feature_encoder = OneHotEncoder(sparse_output=False)\n",
        "\n",
        "    # Encode the feature\n",
        "    feature_encoded = feature_encoder.fit_transform(feature)\n",
        "\n",
        "    # Retrieve the column names of the encoded feature\n",
        "    feature_columns = feature_encoder.get_feature_names_out([feature.columns[0]])\n",
        "\n",
        "    # Return the encoded DataFrame\n",
        "    return pd.DataFrame(feature_encoded, columns=feature_columns)"
      ]
    },
    {
      "cell_type": "markdown",
      "metadata": {},
      "source": [
        "##### Encode all non-numeric features in the X dataset"
      ]
    },
    {
      "cell_type": "code",
      "execution_count": 137,
      "metadata": {},
      "outputs": [
        {
          "data": {
            "text/html": [
              "<div>\n",
              "<style scoped>\n",
              "    .dataframe tbody tr th:only-of-type {\n",
              "        vertical-align: middle;\n",
              "    }\n",
              "\n",
              "    .dataframe tbody tr th {\n",
              "        vertical-align: top;\n",
              "    }\n",
              "\n",
              "    .dataframe thead th {\n",
              "        text-align: right;\n",
              "    }\n",
              "</style>\n",
              "<table border=\"1\" class=\"dataframe\">\n",
              "  <thead>\n",
              "    <tr style=\"text-align: right;\">\n",
              "      <th></th>\n",
              "      <th>Age</th>\n",
              "      <th>DistanceFromHome</th>\n",
              "      <th>Education</th>\n",
              "      <th>EnvironmentSatisfaction</th>\n",
              "      <th>HourlyRate</th>\n",
              "      <th>JobInvolvement</th>\n",
              "      <th>JobLevel</th>\n",
              "      <th>JobSatisfaction</th>\n",
              "      <th>NumCompaniesWorked</th>\n",
              "      <th>PercentSalaryHike</th>\n",
              "      <th>...</th>\n",
              "      <th>JobRole_Manager</th>\n",
              "      <th>JobRole_Manufacturing Director</th>\n",
              "      <th>JobRole_Research Director</th>\n",
              "      <th>JobRole_Research Scientist</th>\n",
              "      <th>JobRole_Sales Executive</th>\n",
              "      <th>JobRole_Sales Representative</th>\n",
              "      <th>MaritalStatus_Divorced</th>\n",
              "      <th>MaritalStatus_Married</th>\n",
              "      <th>MaritalStatus_Single</th>\n",
              "      <th>OverTime_Yes</th>\n",
              "    </tr>\n",
              "  </thead>\n",
              "  <tbody>\n",
              "    <tr>\n",
              "      <th>0</th>\n",
              "      <td>41</td>\n",
              "      <td>1</td>\n",
              "      <td>2</td>\n",
              "      <td>2</td>\n",
              "      <td>94</td>\n",
              "      <td>3</td>\n",
              "      <td>2</td>\n",
              "      <td>4</td>\n",
              "      <td>8</td>\n",
              "      <td>11</td>\n",
              "      <td>...</td>\n",
              "      <td>0.0</td>\n",
              "      <td>0.0</td>\n",
              "      <td>0.0</td>\n",
              "      <td>0.0</td>\n",
              "      <td>1.0</td>\n",
              "      <td>0.0</td>\n",
              "      <td>0.0</td>\n",
              "      <td>0.0</td>\n",
              "      <td>1.0</td>\n",
              "      <td>1.0</td>\n",
              "    </tr>\n",
              "    <tr>\n",
              "      <th>1</th>\n",
              "      <td>49</td>\n",
              "      <td>8</td>\n",
              "      <td>1</td>\n",
              "      <td>3</td>\n",
              "      <td>61</td>\n",
              "      <td>2</td>\n",
              "      <td>2</td>\n",
              "      <td>2</td>\n",
              "      <td>1</td>\n",
              "      <td>23</td>\n",
              "      <td>...</td>\n",
              "      <td>0.0</td>\n",
              "      <td>0.0</td>\n",
              "      <td>0.0</td>\n",
              "      <td>1.0</td>\n",
              "      <td>0.0</td>\n",
              "      <td>0.0</td>\n",
              "      <td>0.0</td>\n",
              "      <td>1.0</td>\n",
              "      <td>0.0</td>\n",
              "      <td>0.0</td>\n",
              "    </tr>\n",
              "    <tr>\n",
              "      <th>2</th>\n",
              "      <td>37</td>\n",
              "      <td>2</td>\n",
              "      <td>2</td>\n",
              "      <td>4</td>\n",
              "      <td>92</td>\n",
              "      <td>2</td>\n",
              "      <td>1</td>\n",
              "      <td>3</td>\n",
              "      <td>6</td>\n",
              "      <td>15</td>\n",
              "      <td>...</td>\n",
              "      <td>0.0</td>\n",
              "      <td>0.0</td>\n",
              "      <td>0.0</td>\n",
              "      <td>0.0</td>\n",
              "      <td>0.0</td>\n",
              "      <td>0.0</td>\n",
              "      <td>0.0</td>\n",
              "      <td>0.0</td>\n",
              "      <td>1.0</td>\n",
              "      <td>1.0</td>\n",
              "    </tr>\n",
              "    <tr>\n",
              "      <th>3</th>\n",
              "      <td>33</td>\n",
              "      <td>3</td>\n",
              "      <td>4</td>\n",
              "      <td>4</td>\n",
              "      <td>56</td>\n",
              "      <td>3</td>\n",
              "      <td>1</td>\n",
              "      <td>3</td>\n",
              "      <td>1</td>\n",
              "      <td>11</td>\n",
              "      <td>...</td>\n",
              "      <td>0.0</td>\n",
              "      <td>0.0</td>\n",
              "      <td>0.0</td>\n",
              "      <td>1.0</td>\n",
              "      <td>0.0</td>\n",
              "      <td>0.0</td>\n",
              "      <td>0.0</td>\n",
              "      <td>1.0</td>\n",
              "      <td>0.0</td>\n",
              "      <td>1.0</td>\n",
              "    </tr>\n",
              "    <tr>\n",
              "      <th>4</th>\n",
              "      <td>27</td>\n",
              "      <td>2</td>\n",
              "      <td>1</td>\n",
              "      <td>1</td>\n",
              "      <td>40</td>\n",
              "      <td>3</td>\n",
              "      <td>1</td>\n",
              "      <td>2</td>\n",
              "      <td>9</td>\n",
              "      <td>12</td>\n",
              "      <td>...</td>\n",
              "      <td>0.0</td>\n",
              "      <td>0.0</td>\n",
              "      <td>0.0</td>\n",
              "      <td>0.0</td>\n",
              "      <td>0.0</td>\n",
              "      <td>0.0</td>\n",
              "      <td>0.0</td>\n",
              "      <td>1.0</td>\n",
              "      <td>0.0</td>\n",
              "      <td>0.0</td>\n",
              "    </tr>\n",
              "  </tbody>\n",
              "</table>\n",
              "<p>5 rows × 42 columns</p>\n",
              "</div>"
            ],
            "text/plain": [
              "   Age  DistanceFromHome  Education  EnvironmentSatisfaction  HourlyRate  \\\n",
              "0   41                 1          2                        2          94   \n",
              "1   49                 8          1                        3          61   \n",
              "2   37                 2          2                        4          92   \n",
              "3   33                 3          4                        4          56   \n",
              "4   27                 2          1                        1          40   \n",
              "\n",
              "   JobInvolvement  JobLevel  JobSatisfaction  NumCompaniesWorked  \\\n",
              "0               3         2                4                   8   \n",
              "1               2         2                2                   1   \n",
              "2               2         1                3                   6   \n",
              "3               3         1                3                   1   \n",
              "4               3         1                2                   9   \n",
              "\n",
              "   PercentSalaryHike  ...  JobRole_Manager  JobRole_Manufacturing Director  \\\n",
              "0                 11  ...              0.0                             0.0   \n",
              "1                 23  ...              0.0                             0.0   \n",
              "2                 15  ...              0.0                             0.0   \n",
              "3                 11  ...              0.0                             0.0   \n",
              "4                 12  ...              0.0                             0.0   \n",
              "\n",
              "   JobRole_Research Director  JobRole_Research Scientist  \\\n",
              "0                        0.0                         0.0   \n",
              "1                        0.0                         1.0   \n",
              "2                        0.0                         0.0   \n",
              "3                        0.0                         1.0   \n",
              "4                        0.0                         0.0   \n",
              "\n",
              "   JobRole_Sales Executive  JobRole_Sales Representative  \\\n",
              "0                      1.0                           0.0   \n",
              "1                      0.0                           0.0   \n",
              "2                      0.0                           0.0   \n",
              "3                      0.0                           0.0   \n",
              "4                      0.0                           0.0   \n",
              "\n",
              "   MaritalStatus_Divorced  MaritalStatus_Married  MaritalStatus_Single  \\\n",
              "0                     0.0                    0.0                   1.0   \n",
              "1                     0.0                    1.0                   0.0   \n",
              "2                     0.0                    0.0                   1.0   \n",
              "3                     0.0                    1.0                   0.0   \n",
              "4                     0.0                    1.0                   0.0   \n",
              "\n",
              "   OverTime_Yes  \n",
              "0           1.0  \n",
              "1           0.0  \n",
              "2           1.0  \n",
              "3           1.0  \n",
              "4           0.0  \n",
              "\n",
              "[5 rows x 42 columns]"
            ]
          },
          "metadata": {},
          "output_type": "display_data"
        },
        {
          "data": {
            "text/plain": [
              "Age                                    int64\n",
              "DistanceFromHome                       int64\n",
              "Education                              int64\n",
              "EnvironmentSatisfaction                int64\n",
              "HourlyRate                             int64\n",
              "JobInvolvement                         int64\n",
              "JobLevel                               int64\n",
              "JobSatisfaction                        int64\n",
              "NumCompaniesWorked                     int64\n",
              "PercentSalaryHike                      int64\n",
              "PerformanceRating                      int64\n",
              "RelationshipSatisfaction               int64\n",
              "StockOptionLevel                       int64\n",
              "TotalWorkingYears                      int64\n",
              "TrainingTimesLastYear                  int64\n",
              "WorkLifeBalance                        int64\n",
              "YearsAtCompany                         int64\n",
              "YearsInCurrentRole                     int64\n",
              "YearsSinceLastPromotion                int64\n",
              "YearsWithCurrManager                   int64\n",
              "BusinessTravel_Non-Travel            float64\n",
              "BusinessTravel_Travel_Frequently     float64\n",
              "BusinessTravel_Travel_Rarely         float64\n",
              "EducationField_Human Resources       float64\n",
              "EducationField_Life Sciences         float64\n",
              "EducationField_Marketing             float64\n",
              "EducationField_Medical               float64\n",
              "EducationField_Other                 float64\n",
              "EducationField_Technical Degree      float64\n",
              "JobRole_Healthcare Representative    float64\n",
              "JobRole_Human Resources              float64\n",
              "JobRole_Laboratory Technician        float64\n",
              "JobRole_Manager                      float64\n",
              "JobRole_Manufacturing Director       float64\n",
              "JobRole_Research Director            float64\n",
              "JobRole_Research Scientist           float64\n",
              "JobRole_Sales Executive              float64\n",
              "JobRole_Sales Representative         float64\n",
              "MaritalStatus_Divorced               float64\n",
              "MaritalStatus_Married                float64\n",
              "MaritalStatus_Single                 float64\n",
              "OverTime_Yes                         float64\n",
              "dtype: object"
            ]
          },
          "metadata": {},
          "output_type": "display_data"
        }
      ],
      "source": [
        "# Copy the X dataset\n",
        "X_encoded_df = X_df.copy()\n",
        "\n",
        "# Loop through all non-numeric features\n",
        "for column in non_num_df.columns:\n",
        "    # Retrieve the feature\n",
        "    feature = non_num_df[[column]]\n",
        "\n",
        "    # Encode the feature and concatenate the X dataset with the encoded columns\n",
        "    X_encoded_df = pd.concat([X_encoded_df, encode_feature(feature)], axis=1)\n",
        "\n",
        "    # Drop the unencoded column\n",
        "    X_encoded_df.drop(columns=column, inplace=True)\n",
        "\n",
        "# Show the first few rows of the encoded X dataset \n",
        "display(X_encoded_df.head())\n",
        "\n",
        "# Show the data types for X_encoded_df\n",
        "display(X_encoded_df.dtypes)"
      ]
    },
    {
      "cell_type": "markdown",
      "metadata": {},
      "source": [
        "### 2.3. Create y dataset"
      ]
    },
    {
      "cell_type": "code",
      "execution_count": 138,
      "metadata": {},
      "outputs": [
        {
          "data": {
            "text/html": [
              "<div>\n",
              "<style scoped>\n",
              "    .dataframe tbody tr th:only-of-type {\n",
              "        vertical-align: middle;\n",
              "    }\n",
              "\n",
              "    .dataframe tbody tr th {\n",
              "        vertical-align: top;\n",
              "    }\n",
              "\n",
              "    .dataframe thead th {\n",
              "        text-align: right;\n",
              "    }\n",
              "</style>\n",
              "<table border=\"1\" class=\"dataframe\">\n",
              "  <thead>\n",
              "    <tr style=\"text-align: right;\">\n",
              "      <th></th>\n",
              "      <th>Attrition</th>\n",
              "      <th>Department</th>\n",
              "    </tr>\n",
              "  </thead>\n",
              "  <tbody>\n",
              "    <tr>\n",
              "      <th>0</th>\n",
              "      <td>Yes</td>\n",
              "      <td>Sales</td>\n",
              "    </tr>\n",
              "    <tr>\n",
              "      <th>1</th>\n",
              "      <td>No</td>\n",
              "      <td>Research &amp; Development</td>\n",
              "    </tr>\n",
              "    <tr>\n",
              "      <th>2</th>\n",
              "      <td>Yes</td>\n",
              "      <td>Research &amp; Development</td>\n",
              "    </tr>\n",
              "    <tr>\n",
              "      <th>3</th>\n",
              "      <td>No</td>\n",
              "      <td>Research &amp; Development</td>\n",
              "    </tr>\n",
              "    <tr>\n",
              "      <th>4</th>\n",
              "      <td>No</td>\n",
              "      <td>Research &amp; Development</td>\n",
              "    </tr>\n",
              "  </tbody>\n",
              "</table>\n",
              "</div>"
            ],
            "text/plain": [
              "  Attrition              Department\n",
              "0       Yes                   Sales\n",
              "1        No  Research & Development\n",
              "2       Yes  Research & Development\n",
              "3        No  Research & Development\n",
              "4        No  Research & Development"
            ]
          },
          "metadata": {},
          "output_type": "display_data"
        }
      ],
      "source": [
        "# Create y_df with the Attrition and Department columns\n",
        "y_df = attrition_df[['Attrition', 'Department']]\n",
        "\n",
        "display(y_df.head())"
      ]
    },
    {
      "cell_type": "markdown",
      "metadata": {},
      "source": [
        "#### Check the elements in each class of the y dataset"
      ]
    },
    {
      "cell_type": "code",
      "execution_count": 139,
      "metadata": {},
      "outputs": [
        {
          "data": {
            "text/plain": [
              "Attrition\n",
              "No     1233\n",
              "Yes     237\n",
              "Name: count, dtype: int64"
            ]
          },
          "metadata": {},
          "output_type": "display_data"
        },
        {
          "data": {
            "text/plain": [
              "Department\n",
              "Research & Development    961\n",
              "Sales                     446\n",
              "Human Resources            63\n",
              "Name: count, dtype: int64"
            ]
          },
          "metadata": {},
          "output_type": "display_data"
        }
      ],
      "source": [
        "display(y_df['Attrition'].value_counts())\n",
        "display(y_df['Department'].value_counts())"
      ]
    },
    {
      "cell_type": "markdown",
      "metadata": {},
      "source": [
        "The classes are very unbalanced. This might lead to overfitting."
      ]
    },
    {
      "cell_type": "markdown",
      "metadata": {},
      "source": [
        "#### Encode the y dataset"
      ]
    },
    {
      "cell_type": "code",
      "execution_count": 140,
      "metadata": {},
      "outputs": [
        {
          "data": {
            "text/html": [
              "<div>\n",
              "<style scoped>\n",
              "    .dataframe tbody tr th:only-of-type {\n",
              "        vertical-align: middle;\n",
              "    }\n",
              "\n",
              "    .dataframe tbody tr th {\n",
              "        vertical-align: top;\n",
              "    }\n",
              "\n",
              "    .dataframe thead th {\n",
              "        text-align: right;\n",
              "    }\n",
              "</style>\n",
              "<table border=\"1\" class=\"dataframe\">\n",
              "  <thead>\n",
              "    <tr style=\"text-align: right;\">\n",
              "      <th></th>\n",
              "      <th>Attrition_Yes</th>\n",
              "      <th>Department_Human Resources</th>\n",
              "      <th>Department_Research &amp; Development</th>\n",
              "      <th>Department_Sales</th>\n",
              "    </tr>\n",
              "  </thead>\n",
              "  <tbody>\n",
              "    <tr>\n",
              "      <th>0</th>\n",
              "      <td>1.0</td>\n",
              "      <td>0.0</td>\n",
              "      <td>0.0</td>\n",
              "      <td>1.0</td>\n",
              "    </tr>\n",
              "    <tr>\n",
              "      <th>1</th>\n",
              "      <td>0.0</td>\n",
              "      <td>0.0</td>\n",
              "      <td>1.0</td>\n",
              "      <td>0.0</td>\n",
              "    </tr>\n",
              "    <tr>\n",
              "      <th>2</th>\n",
              "      <td>1.0</td>\n",
              "      <td>0.0</td>\n",
              "      <td>1.0</td>\n",
              "      <td>0.0</td>\n",
              "    </tr>\n",
              "    <tr>\n",
              "      <th>3</th>\n",
              "      <td>0.0</td>\n",
              "      <td>0.0</td>\n",
              "      <td>1.0</td>\n",
              "      <td>0.0</td>\n",
              "    </tr>\n",
              "    <tr>\n",
              "      <th>4</th>\n",
              "      <td>0.0</td>\n",
              "      <td>0.0</td>\n",
              "      <td>1.0</td>\n",
              "      <td>0.0</td>\n",
              "    </tr>\n",
              "  </tbody>\n",
              "</table>\n",
              "</div>"
            ],
            "text/plain": [
              "   Attrition_Yes  Department_Human Resources  \\\n",
              "0            1.0                         0.0   \n",
              "1            0.0                         0.0   \n",
              "2            1.0                         0.0   \n",
              "3            0.0                         0.0   \n",
              "4            0.0                         0.0   \n",
              "\n",
              "   Department_Research & Development  Department_Sales  \n",
              "0                                0.0               1.0  \n",
              "1                                1.0               0.0  \n",
              "2                                1.0               0.0  \n",
              "3                                1.0               0.0  \n",
              "4                                1.0               0.0  "
            ]
          },
          "metadata": {},
          "output_type": "display_data"
        },
        {
          "data": {
            "text/plain": [
              "Attrition_Yes                        float64\n",
              "Department_Human Resources           float64\n",
              "Department_Research & Development    float64\n",
              "Department_Sales                     float64\n",
              "dtype: object"
            ]
          },
          "metadata": {},
          "output_type": "display_data"
        }
      ],
      "source": [
        "# Copy the X dataset\n",
        "y_encoded_df = y_df.copy()\n",
        "\n",
        "# Loop through all non-numeric features\n",
        "for column in y_df.columns:\n",
        "    # Retrieve the feature\n",
        "    feature = y_df[[column]]\n",
        "\n",
        "    # Encode the feature and concatenate the X dataset with the encoded columns\n",
        "    y_encoded_df = pd.concat([y_encoded_df, encode_feature(feature)], axis=1)\n",
        "\n",
        "    # Drop the unencoded column\n",
        "    y_encoded_df.drop(columns=column, inplace=True)\n",
        "\n",
        "# Show the first few rows of the encoded X dataset \n",
        "display(y_encoded_df.head())\n",
        "\n",
        "# Show the data types for X_encoded_df\n",
        "display(y_encoded_df.dtypes)"
      ]
    },
    {
      "cell_type": "markdown",
      "metadata": {},
      "source": [
        "#### Split y dataset into two separate targets"
      ]
    },
    {
      "cell_type": "code",
      "execution_count": 141,
      "metadata": {},
      "outputs": [
        {
          "data": {
            "text/html": [
              "<div>\n",
              "<style scoped>\n",
              "    .dataframe tbody tr th:only-of-type {\n",
              "        vertical-align: middle;\n",
              "    }\n",
              "\n",
              "    .dataframe tbody tr th {\n",
              "        vertical-align: top;\n",
              "    }\n",
              "\n",
              "    .dataframe thead th {\n",
              "        text-align: right;\n",
              "    }\n",
              "</style>\n",
              "<table border=\"1\" class=\"dataframe\">\n",
              "  <thead>\n",
              "    <tr style=\"text-align: right;\">\n",
              "      <th></th>\n",
              "      <th>Department_Human Resources</th>\n",
              "      <th>Department_Research &amp; Development</th>\n",
              "      <th>Department_Sales</th>\n",
              "    </tr>\n",
              "  </thead>\n",
              "  <tbody>\n",
              "    <tr>\n",
              "      <th>0</th>\n",
              "      <td>0.0</td>\n",
              "      <td>0.0</td>\n",
              "      <td>1.0</td>\n",
              "    </tr>\n",
              "    <tr>\n",
              "      <th>1</th>\n",
              "      <td>0.0</td>\n",
              "      <td>1.0</td>\n",
              "      <td>0.0</td>\n",
              "    </tr>\n",
              "    <tr>\n",
              "      <th>2</th>\n",
              "      <td>0.0</td>\n",
              "      <td>1.0</td>\n",
              "      <td>0.0</td>\n",
              "    </tr>\n",
              "    <tr>\n",
              "      <th>3</th>\n",
              "      <td>0.0</td>\n",
              "      <td>1.0</td>\n",
              "      <td>0.0</td>\n",
              "    </tr>\n",
              "    <tr>\n",
              "      <th>4</th>\n",
              "      <td>0.0</td>\n",
              "      <td>1.0</td>\n",
              "      <td>0.0</td>\n",
              "    </tr>\n",
              "  </tbody>\n",
              "</table>\n",
              "</div>"
            ],
            "text/plain": [
              "   Department_Human Resources  Department_Research & Development  \\\n",
              "0                         0.0                                0.0   \n",
              "1                         0.0                                1.0   \n",
              "2                         0.0                                1.0   \n",
              "3                         0.0                                1.0   \n",
              "4                         0.0                                1.0   \n",
              "\n",
              "   Department_Sales  \n",
              "0               1.0  \n",
              "1               0.0  \n",
              "2               0.0  \n",
              "3               0.0  \n",
              "4               0.0  "
            ]
          },
          "metadata": {},
          "output_type": "display_data"
        }
      ],
      "source": [
        "# Create y dataset for 'Department' target \n",
        "y_dept = y_encoded_df[['Department_Human Resources',\n",
        "                       'Department_Research & Development',\n",
        "                       'Department_Sales']]\n",
        "display(y_dept.head())"
      ]
    },
    {
      "cell_type": "code",
      "execution_count": 142,
      "metadata": {},
      "outputs": [
        {
          "data": {
            "text/html": [
              "<div>\n",
              "<style scoped>\n",
              "    .dataframe tbody tr th:only-of-type {\n",
              "        vertical-align: middle;\n",
              "    }\n",
              "\n",
              "    .dataframe tbody tr th {\n",
              "        vertical-align: top;\n",
              "    }\n",
              "\n",
              "    .dataframe thead th {\n",
              "        text-align: right;\n",
              "    }\n",
              "</style>\n",
              "<table border=\"1\" class=\"dataframe\">\n",
              "  <thead>\n",
              "    <tr style=\"text-align: right;\">\n",
              "      <th></th>\n",
              "      <th>Attrition</th>\n",
              "    </tr>\n",
              "  </thead>\n",
              "  <tbody>\n",
              "    <tr>\n",
              "      <th>0</th>\n",
              "      <td>1.0</td>\n",
              "    </tr>\n",
              "    <tr>\n",
              "      <th>1</th>\n",
              "      <td>0.0</td>\n",
              "    </tr>\n",
              "    <tr>\n",
              "      <th>2</th>\n",
              "      <td>1.0</td>\n",
              "    </tr>\n",
              "    <tr>\n",
              "      <th>3</th>\n",
              "      <td>0.0</td>\n",
              "    </tr>\n",
              "    <tr>\n",
              "      <th>4</th>\n",
              "      <td>0.0</td>\n",
              "    </tr>\n",
              "  </tbody>\n",
              "</table>\n",
              "</div>"
            ],
            "text/plain": [
              "   Attrition\n",
              "0        1.0\n",
              "1        0.0\n",
              "2        1.0\n",
              "3        0.0\n",
              "4        0.0"
            ]
          },
          "metadata": {},
          "output_type": "display_data"
        }
      ],
      "source": [
        "# Create y dataset for 'Attrition' target \n",
        "y_att = y_encoded_df[['Attrition_Yes']].rename(columns={'Attrition_Yes': 'Attrition'})\n",
        "display(y_att.head())"
      ]
    },
    {
      "cell_type": "markdown",
      "metadata": {},
      "source": [
        "### 2.4. Split the X and y dataset into train and test sets"
      ]
    },
    {
      "cell_type": "code",
      "execution_count": 143,
      "metadata": {
        "id": "KaJfdOGUMHMR"
      },
      "outputs": [],
      "source": [
        "# Split the data into training and testing sets\n",
        "from sklearn.model_selection import train_test_split\n",
        "X_train, X_test, y_dept_train, y_dept_test, y_att_train, y_att_test = \\\n",
        "                            train_test_split(X_encoded_df, y_dept, y_att, random_state=1)"
      ]
    },
    {
      "cell_type": "markdown",
      "metadata": {},
      "source": [
        "### 2.5. Scale the X train and test datasets"
      ]
    },
    {
      "cell_type": "code",
      "execution_count": 144,
      "metadata": {
        "id": "EWA-aIA5Gc3T"
      },
      "outputs": [],
      "source": [
        "# Create a StandardScaler\n",
        "scaler = StandardScaler()\n",
        "\n",
        "# Fit the StandardScaler to the training data\n",
        "scaler.fit(X_train)\n",
        "\n",
        "# Scale the training and testing data\n",
        "X_train_scaled = scaler.transform(X_train)\n",
        "X_test_scaled = scaler.transform(X_test)"
      ]
    },
    {
      "cell_type": "markdown",
      "metadata": {
        "id": "ykNmu_WWGc3T"
      },
      "source": [
        "## Part 3: Create, Compile, and Train the Model"
      ]
    },
    {
      "cell_type": "code",
      "execution_count": 145,
      "metadata": {
        "id": "WUptZqmSGc3T"
      },
      "outputs": [],
      "source": [
        "# Find the number of columns in the X training data\n",
        "input_nodes = len(X_train.columns)\n",
        "\n",
        "# Create the input layer\n",
        "input_layer = layers.Input(shape=(input_nodes,), name='input_layer')\n",
        "\n",
        "# Create at least two shared layers\n",
        "shared1 = layers.Dense(64, activation='relu')(input_layer)\n",
        "shared2 = layers.Dense(128, activation='relu')(shared1)"
      ]
    },
    {
      "cell_type": "code",
      "execution_count": 146,
      "metadata": {
        "id": "JukjTm2yTEqd"
      },
      "outputs": [],
      "source": [
        "# Create a branch for Department\n",
        "# with a hidden layer and an output layer\n",
        "\n",
        "# Create the hidden layer\n",
        "dept_hidden = layers.Dense(32, activation='relu')(shared2)\n",
        "\n",
        "# Create the output layer\n",
        "dept_output = layers.Dense(3, activation='softmax', name='dept_out')(dept_hidden)"
      ]
    },
    {
      "cell_type": "code",
      "execution_count": 147,
      "metadata": {
        "id": "9OqhUiOJUBkR"
      },
      "outputs": [],
      "source": [
        "# Create a branch for Attrition\n",
        "# with a hidden layer and an output layer\n",
        "\n",
        "# Create the hidden layer\n",
        "att_hidden = layers.Dense(32, activation='relu')(shared2)\n",
        "\n",
        "# Create the output layer\n",
        "att_output = layers.Dense(1, activation='sigmoid', name='att_out')(att_hidden)"
      ]
    },
    {
      "cell_type": "code",
      "execution_count": 148,
      "metadata": {
        "colab": {
          "base_uri": "https://localhost:8080/"
        },
        "id": "twmuejdxGc3T",
        "outputId": "25096308-b68b-42e4-e4ea-ae82e97c435a"
      },
      "outputs": [
        {
          "data": {
            "text/html": [
              "<pre style=\"white-space:pre;overflow-x:auto;line-height:normal;font-family:Menlo,'DejaVu Sans Mono',consolas,'Courier New',monospace\"><span style=\"font-weight: bold\">Model: \"functional_23\"</span>\n",
              "</pre>\n"
            ],
            "text/plain": [
              "\u001b[1mModel: \"functional_23\"\u001b[0m\n"
            ]
          },
          "metadata": {},
          "output_type": "display_data"
        },
        {
          "data": {
            "text/html": [
              "<pre style=\"white-space:pre;overflow-x:auto;line-height:normal;font-family:Menlo,'DejaVu Sans Mono',consolas,'Courier New',monospace\">┏━━━━━━━━━━━━━━━━━━━━━┳━━━━━━━━━━━━━━━━━━━┳━━━━━━━━━━━━┳━━━━━━━━━━━━━━━━━━━┓\n",
              "┃<span style=\"font-weight: bold\"> Layer (type)        </span>┃<span style=\"font-weight: bold\"> Output Shape      </span>┃<span style=\"font-weight: bold\">    Param # </span>┃<span style=\"font-weight: bold\"> Connected to      </span>┃\n",
              "┡━━━━━━━━━━━━━━━━━━━━━╇━━━━━━━━━━━━━━━━━━━╇━━━━━━━━━━━━╇━━━━━━━━━━━━━━━━━━━┩\n",
              "│ input_layer         │ (<span style=\"color: #00d7ff; text-decoration-color: #00d7ff\">None</span>, <span style=\"color: #00af00; text-decoration-color: #00af00\">42</span>)        │          <span style=\"color: #00af00; text-decoration-color: #00af00\">0</span> │ -                 │\n",
              "│ (<span style=\"color: #0087ff; text-decoration-color: #0087ff\">InputLayer</span>)        │                   │            │                   │\n",
              "├─────────────────────┼───────────────────┼────────────┼───────────────────┤\n",
              "│ dense_28 (<span style=\"color: #0087ff; text-decoration-color: #0087ff\">Dense</span>)    │ (<span style=\"color: #00d7ff; text-decoration-color: #00d7ff\">None</span>, <span style=\"color: #00af00; text-decoration-color: #00af00\">64</span>)        │      <span style=\"color: #00af00; text-decoration-color: #00af00\">2,752</span> │ input_layer[<span style=\"color: #00af00; text-decoration-color: #00af00\">0</span>][<span style=\"color: #00af00; text-decoration-color: #00af00\">0</span>] │\n",
              "├─────────────────────┼───────────────────┼────────────┼───────────────────┤\n",
              "│ dense_29 (<span style=\"color: #0087ff; text-decoration-color: #0087ff\">Dense</span>)    │ (<span style=\"color: #00d7ff; text-decoration-color: #00d7ff\">None</span>, <span style=\"color: #00af00; text-decoration-color: #00af00\">128</span>)       │      <span style=\"color: #00af00; text-decoration-color: #00af00\">8,320</span> │ dense_28[<span style=\"color: #00af00; text-decoration-color: #00af00\">0</span>][<span style=\"color: #00af00; text-decoration-color: #00af00\">0</span>]    │\n",
              "├─────────────────────┼───────────────────┼────────────┼───────────────────┤\n",
              "│ dense_30 (<span style=\"color: #0087ff; text-decoration-color: #0087ff\">Dense</span>)    │ (<span style=\"color: #00d7ff; text-decoration-color: #00d7ff\">None</span>, <span style=\"color: #00af00; text-decoration-color: #00af00\">32</span>)        │      <span style=\"color: #00af00; text-decoration-color: #00af00\">4,128</span> │ dense_29[<span style=\"color: #00af00; text-decoration-color: #00af00\">0</span>][<span style=\"color: #00af00; text-decoration-color: #00af00\">0</span>]    │\n",
              "├─────────────────────┼───────────────────┼────────────┼───────────────────┤\n",
              "│ dense_31 (<span style=\"color: #0087ff; text-decoration-color: #0087ff\">Dense</span>)    │ (<span style=\"color: #00d7ff; text-decoration-color: #00d7ff\">None</span>, <span style=\"color: #00af00; text-decoration-color: #00af00\">32</span>)        │      <span style=\"color: #00af00; text-decoration-color: #00af00\">4,128</span> │ dense_29[<span style=\"color: #00af00; text-decoration-color: #00af00\">0</span>][<span style=\"color: #00af00; text-decoration-color: #00af00\">0</span>]    │\n",
              "├─────────────────────┼───────────────────┼────────────┼───────────────────┤\n",
              "│ dept_out (<span style=\"color: #0087ff; text-decoration-color: #0087ff\">Dense</span>)    │ (<span style=\"color: #00d7ff; text-decoration-color: #00d7ff\">None</span>, <span style=\"color: #00af00; text-decoration-color: #00af00\">3</span>)         │         <span style=\"color: #00af00; text-decoration-color: #00af00\">99</span> │ dense_30[<span style=\"color: #00af00; text-decoration-color: #00af00\">0</span>][<span style=\"color: #00af00; text-decoration-color: #00af00\">0</span>]    │\n",
              "├─────────────────────┼───────────────────┼────────────┼───────────────────┤\n",
              "│ att_out (<span style=\"color: #0087ff; text-decoration-color: #0087ff\">Dense</span>)     │ (<span style=\"color: #00d7ff; text-decoration-color: #00d7ff\">None</span>, <span style=\"color: #00af00; text-decoration-color: #00af00\">1</span>)         │         <span style=\"color: #00af00; text-decoration-color: #00af00\">33</span> │ dense_31[<span style=\"color: #00af00; text-decoration-color: #00af00\">0</span>][<span style=\"color: #00af00; text-decoration-color: #00af00\">0</span>]    │\n",
              "└─────────────────────┴───────────────────┴────────────┴───────────────────┘\n",
              "</pre>\n"
            ],
            "text/plain": [
              "┏━━━━━━━━━━━━━━━━━━━━━┳━━━━━━━━━━━━━━━━━━━┳━━━━━━━━━━━━┳━━━━━━━━━━━━━━━━━━━┓\n",
              "┃\u001b[1m \u001b[0m\u001b[1mLayer (type)       \u001b[0m\u001b[1m \u001b[0m┃\u001b[1m \u001b[0m\u001b[1mOutput Shape     \u001b[0m\u001b[1m \u001b[0m┃\u001b[1m \u001b[0m\u001b[1m   Param #\u001b[0m\u001b[1m \u001b[0m┃\u001b[1m \u001b[0m\u001b[1mConnected to     \u001b[0m\u001b[1m \u001b[0m┃\n",
              "┡━━━━━━━━━━━━━━━━━━━━━╇━━━━━━━━━━━━━━━━━━━╇━━━━━━━━━━━━╇━━━━━━━━━━━━━━━━━━━┩\n",
              "│ input_layer         │ (\u001b[38;5;45mNone\u001b[0m, \u001b[38;5;34m42\u001b[0m)        │          \u001b[38;5;34m0\u001b[0m │ -                 │\n",
              "│ (\u001b[38;5;33mInputLayer\u001b[0m)        │                   │            │                   │\n",
              "├─────────────────────┼───────────────────┼────────────┼───────────────────┤\n",
              "│ dense_28 (\u001b[38;5;33mDense\u001b[0m)    │ (\u001b[38;5;45mNone\u001b[0m, \u001b[38;5;34m64\u001b[0m)        │      \u001b[38;5;34m2,752\u001b[0m │ input_layer[\u001b[38;5;34m0\u001b[0m][\u001b[38;5;34m0\u001b[0m] │\n",
              "├─────────────────────┼───────────────────┼────────────┼───────────────────┤\n",
              "│ dense_29 (\u001b[38;5;33mDense\u001b[0m)    │ (\u001b[38;5;45mNone\u001b[0m, \u001b[38;5;34m128\u001b[0m)       │      \u001b[38;5;34m8,320\u001b[0m │ dense_28[\u001b[38;5;34m0\u001b[0m][\u001b[38;5;34m0\u001b[0m]    │\n",
              "├─────────────────────┼───────────────────┼────────────┼───────────────────┤\n",
              "│ dense_30 (\u001b[38;5;33mDense\u001b[0m)    │ (\u001b[38;5;45mNone\u001b[0m, \u001b[38;5;34m32\u001b[0m)        │      \u001b[38;5;34m4,128\u001b[0m │ dense_29[\u001b[38;5;34m0\u001b[0m][\u001b[38;5;34m0\u001b[0m]    │\n",
              "├─────────────────────┼───────────────────┼────────────┼───────────────────┤\n",
              "│ dense_31 (\u001b[38;5;33mDense\u001b[0m)    │ (\u001b[38;5;45mNone\u001b[0m, \u001b[38;5;34m32\u001b[0m)        │      \u001b[38;5;34m4,128\u001b[0m │ dense_29[\u001b[38;5;34m0\u001b[0m][\u001b[38;5;34m0\u001b[0m]    │\n",
              "├─────────────────────┼───────────────────┼────────────┼───────────────────┤\n",
              "│ dept_out (\u001b[38;5;33mDense\u001b[0m)    │ (\u001b[38;5;45mNone\u001b[0m, \u001b[38;5;34m3\u001b[0m)         │         \u001b[38;5;34m99\u001b[0m │ dense_30[\u001b[38;5;34m0\u001b[0m][\u001b[38;5;34m0\u001b[0m]    │\n",
              "├─────────────────────┼───────────────────┼────────────┼───────────────────┤\n",
              "│ att_out (\u001b[38;5;33mDense\u001b[0m)     │ (\u001b[38;5;45mNone\u001b[0m, \u001b[38;5;34m1\u001b[0m)         │         \u001b[38;5;34m33\u001b[0m │ dense_31[\u001b[38;5;34m0\u001b[0m][\u001b[38;5;34m0\u001b[0m]    │\n",
              "└─────────────────────┴───────────────────┴────────────┴───────────────────┘\n"
            ]
          },
          "metadata": {},
          "output_type": "display_data"
        },
        {
          "data": {
            "text/html": [
              "<pre style=\"white-space:pre;overflow-x:auto;line-height:normal;font-family:Menlo,'DejaVu Sans Mono',consolas,'Courier New',monospace\"><span style=\"font-weight: bold\"> Total params: </span><span style=\"color: #00af00; text-decoration-color: #00af00\">19,460</span> (76.02 KB)\n",
              "</pre>\n"
            ],
            "text/plain": [
              "\u001b[1m Total params: \u001b[0m\u001b[38;5;34m19,460\u001b[0m (76.02 KB)\n"
            ]
          },
          "metadata": {},
          "output_type": "display_data"
        },
        {
          "data": {
            "text/html": [
              "<pre style=\"white-space:pre;overflow-x:auto;line-height:normal;font-family:Menlo,'DejaVu Sans Mono',consolas,'Courier New',monospace\"><span style=\"font-weight: bold\"> Trainable params: </span><span style=\"color: #00af00; text-decoration-color: #00af00\">19,460</span> (76.02 KB)\n",
              "</pre>\n"
            ],
            "text/plain": [
              "\u001b[1m Trainable params: \u001b[0m\u001b[38;5;34m19,460\u001b[0m (76.02 KB)\n"
            ]
          },
          "metadata": {},
          "output_type": "display_data"
        },
        {
          "data": {
            "text/html": [
              "<pre style=\"white-space:pre;overflow-x:auto;line-height:normal;font-family:Menlo,'DejaVu Sans Mono',consolas,'Courier New',monospace\"><span style=\"font-weight: bold\"> Non-trainable params: </span><span style=\"color: #00af00; text-decoration-color: #00af00\">0</span> (0.00 B)\n",
              "</pre>\n"
            ],
            "text/plain": [
              "\u001b[1m Non-trainable params: \u001b[0m\u001b[38;5;34m0\u001b[0m (0.00 B)\n"
            ]
          },
          "metadata": {},
          "output_type": "display_data"
        }
      ],
      "source": [
        "# Create the model\n",
        "model = Model(inputs=input_layer, outputs=[dept_output, att_output])\n",
        "\n",
        "# Compile the model\n",
        "model.compile(optimizer='adam',\n",
        "              loss={'dept_out': 'categorical_crossentropy', 'att_out': 'binary_crossentropy'},\n",
        "              metrics={'dept_out': 'accuracy', 'att_out': 'accuracy'})\n",
        "\n",
        "# Summarize the model\n",
        "model.summary()"
      ]
    },
    {
      "cell_type": "code",
      "execution_count": 149,
      "metadata": {
        "colab": {
          "base_uri": "https://localhost:8080/"
        },
        "id": "c8oGy0dpGc3U",
        "outputId": "cc667d43-28cf-42d4-d719-c2bc02888d30"
      },
      "outputs": [
        {
          "name": "stdout",
          "output_type": "stream",
          "text": [
            "Epoch 1/100\n",
            "\u001b[1m28/28\u001b[0m \u001b[32m━━━━━━━━━━━━━━━━━━━━\u001b[0m\u001b[37m\u001b[0m \u001b[1m3s\u001b[0m 8ms/step - att_out_accuracy: 0.8294 - dept_out_accuracy: 0.5719 - loss: 1.4086 - val_att_out_accuracy: 0.8281 - val_dept_out_accuracy: 0.8235 - val_loss: 1.0016\n",
            "Epoch 2/100\n",
            "\u001b[1m28/28\u001b[0m \u001b[32m━━━━━━━━━━━━━━━━━━━━\u001b[0m\u001b[37m\u001b[0m \u001b[1m0s\u001b[0m 3ms/step - att_out_accuracy: 0.8546 - dept_out_accuracy: 0.8854 - loss: 0.7834 - val_att_out_accuracy: 0.8281 - val_dept_out_accuracy: 0.9457 - val_loss: 0.6682\n",
            "Epoch 3/100\n",
            "\u001b[1m28/28\u001b[0m \u001b[32m━━━━━━━━━━━━━━━━━━━━\u001b[0m\u001b[37m\u001b[0m \u001b[1m0s\u001b[0m 3ms/step - att_out_accuracy: 0.8478 - dept_out_accuracy: 0.9573 - loss: 0.5278 - val_att_out_accuracy: 0.8416 - val_dept_out_accuracy: 0.9774 - val_loss: 0.5557\n",
            "Epoch 4/100\n",
            "\u001b[1m28/28\u001b[0m \u001b[32m━━━━━━━━━━━━━━━━━━━━\u001b[0m\u001b[37m\u001b[0m \u001b[1m0s\u001b[0m 2ms/step - att_out_accuracy: 0.8800 - dept_out_accuracy: 0.9808 - loss: 0.3857 - val_att_out_accuracy: 0.8462 - val_dept_out_accuracy: 0.9774 - val_loss: 0.5136\n",
            "Epoch 5/100\n",
            "\u001b[1m28/28\u001b[0m \u001b[32m━━━━━━━━━━━━━━━━━━━━\u001b[0m\u001b[37m\u001b[0m \u001b[1m0s\u001b[0m 2ms/step - att_out_accuracy: 0.8953 - dept_out_accuracy: 0.9793 - loss: 0.3252 - val_att_out_accuracy: 0.8235 - val_dept_out_accuracy: 0.9774 - val_loss: 0.5019\n",
            "Epoch 6/100\n",
            "\u001b[1m28/28\u001b[0m \u001b[32m━━━━━━━━━━━━━━━━━━━━\u001b[0m\u001b[37m\u001b[0m \u001b[1m0s\u001b[0m 2ms/step - att_out_accuracy: 0.9025 - dept_out_accuracy: 0.9885 - loss: 0.2567 - val_att_out_accuracy: 0.8507 - val_dept_out_accuracy: 0.9774 - val_loss: 0.4918\n",
            "Epoch 7/100\n",
            "\u001b[1m28/28\u001b[0m \u001b[32m━━━━━━━━━━━━━━━━━━━━\u001b[0m\u001b[37m\u001b[0m \u001b[1m0s\u001b[0m 2ms/step - att_out_accuracy: 0.9128 - dept_out_accuracy: 0.9922 - loss: 0.2488 - val_att_out_accuracy: 0.8416 - val_dept_out_accuracy: 0.9774 - val_loss: 0.5028\n",
            "Epoch 8/100\n",
            "\u001b[1m28/28\u001b[0m \u001b[32m━━━━━━━━━━━━━━━━━━━━\u001b[0m\u001b[37m\u001b[0m \u001b[1m0s\u001b[0m 3ms/step - att_out_accuracy: 0.9333 - dept_out_accuracy: 0.9954 - loss: 0.1922 - val_att_out_accuracy: 0.8462 - val_dept_out_accuracy: 0.9729 - val_loss: 0.5110\n",
            "Epoch 9/100\n",
            "\u001b[1m28/28\u001b[0m \u001b[32m━━━━━━━━━━━━━━━━━━━━\u001b[0m\u001b[37m\u001b[0m \u001b[1m0s\u001b[0m 2ms/step - att_out_accuracy: 0.9392 - dept_out_accuracy: 0.9960 - loss: 0.1906 - val_att_out_accuracy: 0.8371 - val_dept_out_accuracy: 0.9774 - val_loss: 0.5091\n",
            "Epoch 10/100\n",
            "\u001b[1m28/28\u001b[0m \u001b[32m━━━━━━━━━━━━━━━━━━━━\u001b[0m\u001b[37m\u001b[0m \u001b[1m0s\u001b[0m 2ms/step - att_out_accuracy: 0.9449 - dept_out_accuracy: 0.9999 - loss: 0.1779 - val_att_out_accuracy: 0.8507 - val_dept_out_accuracy: 0.9774 - val_loss: 0.5407\n",
            "Epoch 11/100\n",
            "\u001b[1m28/28\u001b[0m \u001b[32m━━━━━━━━━━━━━━━━━━━━\u001b[0m\u001b[37m\u001b[0m \u001b[1m0s\u001b[0m 2ms/step - att_out_accuracy: 0.9357 - dept_out_accuracy: 0.9989 - loss: 0.1607 - val_att_out_accuracy: 0.8371 - val_dept_out_accuracy: 0.9774 - val_loss: 0.5493\n",
            "Epoch 12/100\n",
            "\u001b[1m28/28\u001b[0m \u001b[32m━━━━━━━━━━━━━━━━━━━━\u001b[0m\u001b[37m\u001b[0m \u001b[1m0s\u001b[0m 2ms/step - att_out_accuracy: 0.9622 - dept_out_accuracy: 1.0000 - loss: 0.1246 - val_att_out_accuracy: 0.8371 - val_dept_out_accuracy: 0.9774 - val_loss: 0.5735\n",
            "Epoch 13/100\n",
            "\u001b[1m28/28\u001b[0m \u001b[32m━━━━━━━━━━━━━━━━━━━━\u001b[0m\u001b[37m\u001b[0m \u001b[1m0s\u001b[0m 3ms/step - att_out_accuracy: 0.9637 - dept_out_accuracy: 1.0000 - loss: 0.1127 - val_att_out_accuracy: 0.8009 - val_dept_out_accuracy: 0.9774 - val_loss: 0.5836\n",
            "Epoch 14/100\n",
            "\u001b[1m28/28\u001b[0m \u001b[32m━━━━━━━━━━━━━━━━━━━━\u001b[0m\u001b[37m\u001b[0m \u001b[1m0s\u001b[0m 2ms/step - att_out_accuracy: 0.9587 - dept_out_accuracy: 1.0000 - loss: 0.1019 - val_att_out_accuracy: 0.8326 - val_dept_out_accuracy: 0.9729 - val_loss: 0.6197\n",
            "Epoch 15/100\n",
            "\u001b[1m28/28\u001b[0m \u001b[32m━━━━━━━━━━━━━━━━━━━━\u001b[0m\u001b[37m\u001b[0m \u001b[1m0s\u001b[0m 3ms/step - att_out_accuracy: 0.9775 - dept_out_accuracy: 1.0000 - loss: 0.0728 - val_att_out_accuracy: 0.8190 - val_dept_out_accuracy: 0.9774 - val_loss: 0.6643\n",
            "Epoch 16/100\n",
            "\u001b[1m28/28\u001b[0m \u001b[32m━━━━━━━━━━━━━━━━━━━━\u001b[0m\u001b[37m\u001b[0m \u001b[1m0s\u001b[0m 4ms/step - att_out_accuracy: 0.9854 - dept_out_accuracy: 1.0000 - loss: 0.0576 - val_att_out_accuracy: 0.8507 - val_dept_out_accuracy: 0.9774 - val_loss: 0.6947\n",
            "Epoch 17/100\n",
            "\u001b[1m28/28\u001b[0m \u001b[32m━━━━━━━━━━━━━━━━━━━━\u001b[0m\u001b[37m\u001b[0m \u001b[1m0s\u001b[0m 3ms/step - att_out_accuracy: 0.9905 - dept_out_accuracy: 1.0000 - loss: 0.0518 - val_att_out_accuracy: 0.8281 - val_dept_out_accuracy: 0.9774 - val_loss: 0.7408\n",
            "Epoch 18/100\n",
            "\u001b[1m28/28\u001b[0m \u001b[32m━━━━━━━━━━━━━━━━━━━━\u001b[0m\u001b[37m\u001b[0m \u001b[1m0s\u001b[0m 3ms/step - att_out_accuracy: 0.9952 - dept_out_accuracy: 1.0000 - loss: 0.0453 - val_att_out_accuracy: 0.8054 - val_dept_out_accuracy: 0.9819 - val_loss: 0.7572\n",
            "Epoch 19/100\n",
            "\u001b[1m28/28\u001b[0m \u001b[32m━━━━━━━━━━━━━━━━━━━━\u001b[0m\u001b[37m\u001b[0m \u001b[1m0s\u001b[0m 2ms/step - att_out_accuracy: 0.9950 - dept_out_accuracy: 1.0000 - loss: 0.0311 - val_att_out_accuracy: 0.8054 - val_dept_out_accuracy: 0.9774 - val_loss: 0.8027\n",
            "Epoch 20/100\n",
            "\u001b[1m28/28\u001b[0m \u001b[32m━━━━━━━━━━━━━━━━━━━━\u001b[0m\u001b[37m\u001b[0m \u001b[1m0s\u001b[0m 3ms/step - att_out_accuracy: 0.9980 - dept_out_accuracy: 1.0000 - loss: 0.0270 - val_att_out_accuracy: 0.8235 - val_dept_out_accuracy: 0.9774 - val_loss: 0.8403\n",
            "Epoch 21/100\n",
            "\u001b[1m28/28\u001b[0m \u001b[32m━━━━━━━━━━━━━━━━━━━━\u001b[0m\u001b[37m\u001b[0m \u001b[1m0s\u001b[0m 2ms/step - att_out_accuracy: 0.9991 - dept_out_accuracy: 1.0000 - loss: 0.0211 - val_att_out_accuracy: 0.8371 - val_dept_out_accuracy: 0.9774 - val_loss: 0.9079\n",
            "Epoch 22/100\n",
            "\u001b[1m28/28\u001b[0m \u001b[32m━━━━━━━━━━━━━━━━━━━━\u001b[0m\u001b[37m\u001b[0m \u001b[1m0s\u001b[0m 2ms/step - att_out_accuracy: 0.9998 - dept_out_accuracy: 1.0000 - loss: 0.0155 - val_att_out_accuracy: 0.8009 - val_dept_out_accuracy: 0.9774 - val_loss: 0.9488\n",
            "Epoch 23/100\n",
            "\u001b[1m28/28\u001b[0m \u001b[32m━━━━━━━━━━━━━━━━━━━━\u001b[0m\u001b[37m\u001b[0m \u001b[1m0s\u001b[0m 3ms/step - att_out_accuracy: 0.9994 - dept_out_accuracy: 1.0000 - loss: 0.0168 - val_att_out_accuracy: 0.8009 - val_dept_out_accuracy: 0.9774 - val_loss: 0.9534\n",
            "Epoch 24/100\n",
            "\u001b[1m28/28\u001b[0m \u001b[32m━━━━━━━━━━━━━━━━━━━━\u001b[0m\u001b[37m\u001b[0m \u001b[1m0s\u001b[0m 2ms/step - att_out_accuracy: 0.9994 - dept_out_accuracy: 1.0000 - loss: 0.0130 - val_att_out_accuracy: 0.8190 - val_dept_out_accuracy: 0.9774 - val_loss: 1.0126\n",
            "Epoch 25/100\n",
            "\u001b[1m28/28\u001b[0m \u001b[32m━━━━━━━━━━━━━━━━━━━━\u001b[0m\u001b[37m\u001b[0m \u001b[1m0s\u001b[0m 3ms/step - att_out_accuracy: 1.0000 - dept_out_accuracy: 1.0000 - loss: 0.0096 - val_att_out_accuracy: 0.8281 - val_dept_out_accuracy: 0.9774 - val_loss: 1.0522\n",
            "Epoch 26/100\n",
            "\u001b[1m28/28\u001b[0m \u001b[32m━━━━━━━━━━━━━━━━━━━━\u001b[0m\u001b[37m\u001b[0m \u001b[1m0s\u001b[0m 3ms/step - att_out_accuracy: 1.0000 - dept_out_accuracy: 1.0000 - loss: 0.0073 - val_att_out_accuracy: 0.8281 - val_dept_out_accuracy: 0.9774 - val_loss: 1.0691\n",
            "Epoch 27/100\n",
            "\u001b[1m28/28\u001b[0m \u001b[32m━━━━━━━━━━━━━━━━━━━━\u001b[0m\u001b[37m\u001b[0m \u001b[1m0s\u001b[0m 2ms/step - att_out_accuracy: 1.0000 - dept_out_accuracy: 1.0000 - loss: 0.0056 - val_att_out_accuracy: 0.8145 - val_dept_out_accuracy: 0.9774 - val_loss: 1.0933\n",
            "Epoch 28/100\n",
            "\u001b[1m28/28\u001b[0m \u001b[32m━━━━━━━━━━━━━━━━━━━━\u001b[0m\u001b[37m\u001b[0m \u001b[1m0s\u001b[0m 3ms/step - att_out_accuracy: 1.0000 - dept_out_accuracy: 1.0000 - loss: 0.0048 - val_att_out_accuracy: 0.8190 - val_dept_out_accuracy: 0.9774 - val_loss: 1.1303\n",
            "Epoch 29/100\n",
            "\u001b[1m28/28\u001b[0m \u001b[32m━━━━━━━━━━━━━━━━━━━━\u001b[0m\u001b[37m\u001b[0m \u001b[1m0s\u001b[0m 2ms/step - att_out_accuracy: 1.0000 - dept_out_accuracy: 1.0000 - loss: 0.0042 - val_att_out_accuracy: 0.8190 - val_dept_out_accuracy: 0.9774 - val_loss: 1.1538\n",
            "Epoch 30/100\n",
            "\u001b[1m28/28\u001b[0m \u001b[32m━━━━━━━━━━━━━━━━━━━━\u001b[0m\u001b[37m\u001b[0m \u001b[1m0s\u001b[0m 2ms/step - att_out_accuracy: 1.0000 - dept_out_accuracy: 1.0000 - loss: 0.0040 - val_att_out_accuracy: 0.8281 - val_dept_out_accuracy: 0.9819 - val_loss: 1.1919\n",
            "Epoch 31/100\n",
            "\u001b[1m28/28\u001b[0m \u001b[32m━━━━━━━━━━━━━━━━━━━━\u001b[0m\u001b[37m\u001b[0m \u001b[1m0s\u001b[0m 4ms/step - att_out_accuracy: 1.0000 - dept_out_accuracy: 1.0000 - loss: 0.0044 - val_att_out_accuracy: 0.8235 - val_dept_out_accuracy: 0.9774 - val_loss: 1.2076\n",
            "Epoch 32/100\n",
            "\u001b[1m28/28\u001b[0m \u001b[32m━━━━━━━━━━━━━━━━━━━━\u001b[0m\u001b[37m\u001b[0m \u001b[1m0s\u001b[0m 2ms/step - att_out_accuracy: 1.0000 - dept_out_accuracy: 1.0000 - loss: 0.0029 - val_att_out_accuracy: 0.8145 - val_dept_out_accuracy: 0.9774 - val_loss: 1.2218\n",
            "Epoch 33/100\n",
            "\u001b[1m28/28\u001b[0m \u001b[32m━━━━━━━━━━━━━━━━━━━━\u001b[0m\u001b[37m\u001b[0m \u001b[1m0s\u001b[0m 2ms/step - att_out_accuracy: 1.0000 - dept_out_accuracy: 1.0000 - loss: 0.0032 - val_att_out_accuracy: 0.8190 - val_dept_out_accuracy: 0.9819 - val_loss: 1.2545\n",
            "Epoch 34/100\n",
            "\u001b[1m28/28\u001b[0m \u001b[32m━━━━━━━━━━━━━━━━━━━━\u001b[0m\u001b[37m\u001b[0m \u001b[1m0s\u001b[0m 3ms/step - att_out_accuracy: 1.0000 - dept_out_accuracy: 1.0000 - loss: 0.0022 - val_att_out_accuracy: 0.8145 - val_dept_out_accuracy: 0.9774 - val_loss: 1.2634\n",
            "Epoch 35/100\n",
            "\u001b[1m28/28\u001b[0m \u001b[32m━━━━━━━━━━━━━━━━━━━━\u001b[0m\u001b[37m\u001b[0m \u001b[1m0s\u001b[0m 3ms/step - att_out_accuracy: 1.0000 - dept_out_accuracy: 1.0000 - loss: 0.0022 - val_att_out_accuracy: 0.8190 - val_dept_out_accuracy: 0.9774 - val_loss: 1.2872\n",
            "Epoch 36/100\n",
            "\u001b[1m28/28\u001b[0m \u001b[32m━━━━━━━━━━━━━━━━━━━━\u001b[0m\u001b[37m\u001b[0m \u001b[1m0s\u001b[0m 3ms/step - att_out_accuracy: 1.0000 - dept_out_accuracy: 1.0000 - loss: 0.0020 - val_att_out_accuracy: 0.8190 - val_dept_out_accuracy: 0.9774 - val_loss: 1.3048\n",
            "Epoch 37/100\n",
            "\u001b[1m28/28\u001b[0m \u001b[32m━━━━━━━━━━━━━━━━━━━━\u001b[0m\u001b[37m\u001b[0m \u001b[1m0s\u001b[0m 3ms/step - att_out_accuracy: 1.0000 - dept_out_accuracy: 1.0000 - loss: 0.0020 - val_att_out_accuracy: 0.8145 - val_dept_out_accuracy: 0.9819 - val_loss: 1.3194\n",
            "Epoch 38/100\n",
            "\u001b[1m28/28\u001b[0m \u001b[32m━━━━━━━━━━━━━━━━━━━━\u001b[0m\u001b[37m\u001b[0m \u001b[1m0s\u001b[0m 3ms/step - att_out_accuracy: 1.0000 - dept_out_accuracy: 1.0000 - loss: 0.0015 - val_att_out_accuracy: 0.8145 - val_dept_out_accuracy: 0.9774 - val_loss: 1.3323\n",
            "Epoch 39/100\n",
            "\u001b[1m28/28\u001b[0m \u001b[32m━━━━━━━━━━━━━━━━━━━━\u001b[0m\u001b[37m\u001b[0m \u001b[1m0s\u001b[0m 3ms/step - att_out_accuracy: 1.0000 - dept_out_accuracy: 1.0000 - loss: 0.0015 - val_att_out_accuracy: 0.8235 - val_dept_out_accuracy: 0.9819 - val_loss: 1.3521\n",
            "Epoch 40/100\n",
            "\u001b[1m28/28\u001b[0m \u001b[32m━━━━━━━━━━━━━━━━━━━━\u001b[0m\u001b[37m\u001b[0m \u001b[1m0s\u001b[0m 3ms/step - att_out_accuracy: 1.0000 - dept_out_accuracy: 1.0000 - loss: 0.0015 - val_att_out_accuracy: 0.8145 - val_dept_out_accuracy: 0.9774 - val_loss: 1.3620\n",
            "Epoch 41/100\n",
            "\u001b[1m28/28\u001b[0m \u001b[32m━━━━━━━━━━━━━━━━━━━━\u001b[0m\u001b[37m\u001b[0m \u001b[1m0s\u001b[0m 2ms/step - att_out_accuracy: 1.0000 - dept_out_accuracy: 1.0000 - loss: 0.0015 - val_att_out_accuracy: 0.8190 - val_dept_out_accuracy: 0.9819 - val_loss: 1.3787\n",
            "Epoch 42/100\n",
            "\u001b[1m28/28\u001b[0m \u001b[32m━━━━━━━━━━━━━━━━━━━━\u001b[0m\u001b[37m\u001b[0m \u001b[1m0s\u001b[0m 3ms/step - att_out_accuracy: 1.0000 - dept_out_accuracy: 1.0000 - loss: 0.0011 - val_att_out_accuracy: 0.8145 - val_dept_out_accuracy: 0.9774 - val_loss: 1.3926\n",
            "Epoch 43/100\n",
            "\u001b[1m28/28\u001b[0m \u001b[32m━━━━━━━━━━━━━━━━━━━━\u001b[0m\u001b[37m\u001b[0m \u001b[1m0s\u001b[0m 3ms/step - att_out_accuracy: 1.0000 - dept_out_accuracy: 1.0000 - loss: 0.0011 - val_att_out_accuracy: 0.8145 - val_dept_out_accuracy: 0.9819 - val_loss: 1.4071\n",
            "Epoch 44/100\n",
            "\u001b[1m28/28\u001b[0m \u001b[32m━━━━━━━━━━━━━━━━━━━━\u001b[0m\u001b[37m\u001b[0m \u001b[1m0s\u001b[0m 3ms/step - att_out_accuracy: 1.0000 - dept_out_accuracy: 1.0000 - loss: 0.0010 - val_att_out_accuracy: 0.8145 - val_dept_out_accuracy: 0.9774 - val_loss: 1.4166\n",
            "Epoch 45/100\n",
            "\u001b[1m28/28\u001b[0m \u001b[32m━━━━━━━━━━━━━━━━━━━━\u001b[0m\u001b[37m\u001b[0m \u001b[1m0s\u001b[0m 5ms/step - att_out_accuracy: 1.0000 - dept_out_accuracy: 1.0000 - loss: 0.0010 - val_att_out_accuracy: 0.8145 - val_dept_out_accuracy: 0.9774 - val_loss: 1.4314\n",
            "Epoch 46/100\n",
            "\u001b[1m28/28\u001b[0m \u001b[32m━━━━━━━━━━━━━━━━━━━━\u001b[0m\u001b[37m\u001b[0m \u001b[1m0s\u001b[0m 3ms/step - att_out_accuracy: 1.0000 - dept_out_accuracy: 1.0000 - loss: 8.4439e-04 - val_att_out_accuracy: 0.8145 - val_dept_out_accuracy: 0.9819 - val_loss: 1.4445\n",
            "Epoch 47/100\n",
            "\u001b[1m28/28\u001b[0m \u001b[32m━━━━━━━━━━━━━━━━━━━━\u001b[0m\u001b[37m\u001b[0m \u001b[1m0s\u001b[0m 2ms/step - att_out_accuracy: 1.0000 - dept_out_accuracy: 1.0000 - loss: 8.2546e-04 - val_att_out_accuracy: 0.8145 - val_dept_out_accuracy: 0.9819 - val_loss: 1.4504\n",
            "Epoch 48/100\n",
            "\u001b[1m28/28\u001b[0m \u001b[32m━━━━━━━━━━━━━━━━━━━━\u001b[0m\u001b[37m\u001b[0m \u001b[1m0s\u001b[0m 2ms/step - att_out_accuracy: 1.0000 - dept_out_accuracy: 1.0000 - loss: 8.4911e-04 - val_att_out_accuracy: 0.8190 - val_dept_out_accuracy: 0.9819 - val_loss: 1.4689\n",
            "Epoch 49/100\n",
            "\u001b[1m28/28\u001b[0m \u001b[32m━━━━━━━━━━━━━━━━━━━━\u001b[0m\u001b[37m\u001b[0m \u001b[1m0s\u001b[0m 2ms/step - att_out_accuracy: 1.0000 - dept_out_accuracy: 1.0000 - loss: 7.3100e-04 - val_att_out_accuracy: 0.8145 - val_dept_out_accuracy: 0.9819 - val_loss: 1.4761\n",
            "Epoch 50/100\n",
            "\u001b[1m28/28\u001b[0m \u001b[32m━━━━━━━━━━━━━━━━━━━━\u001b[0m\u001b[37m\u001b[0m \u001b[1m0s\u001b[0m 2ms/step - att_out_accuracy: 1.0000 - dept_out_accuracy: 1.0000 - loss: 7.3357e-04 - val_att_out_accuracy: 0.8145 - val_dept_out_accuracy: 0.9774 - val_loss: 1.4886\n",
            "Epoch 51/100\n",
            "\u001b[1m28/28\u001b[0m \u001b[32m━━━━━━━━━━━━━━━━━━━━\u001b[0m\u001b[37m\u001b[0m \u001b[1m0s\u001b[0m 2ms/step - att_out_accuracy: 1.0000 - dept_out_accuracy: 1.0000 - loss: 7.2367e-04 - val_att_out_accuracy: 0.8145 - val_dept_out_accuracy: 0.9774 - val_loss: 1.4989\n",
            "Epoch 52/100\n",
            "\u001b[1m28/28\u001b[0m \u001b[32m━━━━━━━━━━━━━━━━━━━━\u001b[0m\u001b[37m\u001b[0m \u001b[1m0s\u001b[0m 2ms/step - att_out_accuracy: 1.0000 - dept_out_accuracy: 1.0000 - loss: 7.0335e-04 - val_att_out_accuracy: 0.8145 - val_dept_out_accuracy: 0.9819 - val_loss: 1.5093\n",
            "Epoch 53/100\n",
            "\u001b[1m28/28\u001b[0m \u001b[32m━━━━━━━━━━━━━━━━━━━━\u001b[0m\u001b[37m\u001b[0m \u001b[1m0s\u001b[0m 3ms/step - att_out_accuracy: 1.0000 - dept_out_accuracy: 1.0000 - loss: 7.1409e-04 - val_att_out_accuracy: 0.8145 - val_dept_out_accuracy: 0.9819 - val_loss: 1.5212\n",
            "Epoch 54/100\n",
            "\u001b[1m28/28\u001b[0m \u001b[32m━━━━━━━━━━━━━━━━━━━━\u001b[0m\u001b[37m\u001b[0m \u001b[1m0s\u001b[0m 3ms/step - att_out_accuracy: 1.0000 - dept_out_accuracy: 1.0000 - loss: 5.8181e-04 - val_att_out_accuracy: 0.8145 - val_dept_out_accuracy: 0.9819 - val_loss: 1.5287\n",
            "Epoch 55/100\n",
            "\u001b[1m28/28\u001b[0m \u001b[32m━━━━━━━━━━━━━━━━━━━━\u001b[0m\u001b[37m\u001b[0m \u001b[1m0s\u001b[0m 3ms/step - att_out_accuracy: 1.0000 - dept_out_accuracy: 1.0000 - loss: 6.1511e-04 - val_att_out_accuracy: 0.8145 - val_dept_out_accuracy: 0.9819 - val_loss: 1.5392\n",
            "Epoch 56/100\n",
            "\u001b[1m28/28\u001b[0m \u001b[32m━━━━━━━━━━━━━━━━━━━━\u001b[0m\u001b[37m\u001b[0m \u001b[1m0s\u001b[0m 2ms/step - att_out_accuracy: 1.0000 - dept_out_accuracy: 1.0000 - loss: 4.5975e-04 - val_att_out_accuracy: 0.8190 - val_dept_out_accuracy: 0.9819 - val_loss: 1.5452\n",
            "Epoch 57/100\n",
            "\u001b[1m28/28\u001b[0m \u001b[32m━━━━━━━━━━━━━━━━━━━━\u001b[0m\u001b[37m\u001b[0m \u001b[1m0s\u001b[0m 3ms/step - att_out_accuracy: 1.0000 - dept_out_accuracy: 1.0000 - loss: 5.1546e-04 - val_att_out_accuracy: 0.8145 - val_dept_out_accuracy: 0.9819 - val_loss: 1.5576\n",
            "Epoch 58/100\n",
            "\u001b[1m28/28\u001b[0m \u001b[32m━━━━━━━━━━━━━━━━━━━━\u001b[0m\u001b[37m\u001b[0m \u001b[1m0s\u001b[0m 3ms/step - att_out_accuracy: 1.0000 - dept_out_accuracy: 1.0000 - loss: 5.7593e-04 - val_att_out_accuracy: 0.8145 - val_dept_out_accuracy: 0.9819 - val_loss: 1.5654\n",
            "Epoch 59/100\n",
            "\u001b[1m28/28\u001b[0m \u001b[32m━━━━━━━━━━━━━━━━━━━━\u001b[0m\u001b[37m\u001b[0m \u001b[1m0s\u001b[0m 2ms/step - att_out_accuracy: 1.0000 - dept_out_accuracy: 1.0000 - loss: 4.7789e-04 - val_att_out_accuracy: 0.8145 - val_dept_out_accuracy: 0.9774 - val_loss: 1.5761\n",
            "Epoch 60/100\n",
            "\u001b[1m28/28\u001b[0m \u001b[32m━━━━━━━━━━━━━━━━━━━━\u001b[0m\u001b[37m\u001b[0m \u001b[1m0s\u001b[0m 2ms/step - att_out_accuracy: 1.0000 - dept_out_accuracy: 1.0000 - loss: 4.3233e-04 - val_att_out_accuracy: 0.8145 - val_dept_out_accuracy: 0.9774 - val_loss: 1.5835\n",
            "Epoch 61/100\n",
            "\u001b[1m28/28\u001b[0m \u001b[32m━━━━━━━━━━━━━━━━━━━━\u001b[0m\u001b[37m\u001b[0m \u001b[1m0s\u001b[0m 3ms/step - att_out_accuracy: 1.0000 - dept_out_accuracy: 1.0000 - loss: 4.5007e-04 - val_att_out_accuracy: 0.8145 - val_dept_out_accuracy: 0.9819 - val_loss: 1.5942\n",
            "Epoch 62/100\n",
            "\u001b[1m28/28\u001b[0m \u001b[32m━━━━━━━━━━━━━━━━━━━━\u001b[0m\u001b[37m\u001b[0m \u001b[1m0s\u001b[0m 3ms/step - att_out_accuracy: 1.0000 - dept_out_accuracy: 1.0000 - loss: 4.3004e-04 - val_att_out_accuracy: 0.8145 - val_dept_out_accuracy: 0.9819 - val_loss: 1.6026\n",
            "Epoch 63/100\n",
            "\u001b[1m28/28\u001b[0m \u001b[32m━━━━━━━━━━━━━━━━━━━━\u001b[0m\u001b[37m\u001b[0m \u001b[1m0s\u001b[0m 3ms/step - att_out_accuracy: 1.0000 - dept_out_accuracy: 1.0000 - loss: 3.7886e-04 - val_att_out_accuracy: 0.8145 - val_dept_out_accuracy: 0.9819 - val_loss: 1.6121\n",
            "Epoch 64/100\n",
            "\u001b[1m28/28\u001b[0m \u001b[32m━━━━━━━━━━━━━━━━━━━━\u001b[0m\u001b[37m\u001b[0m \u001b[1m0s\u001b[0m 2ms/step - att_out_accuracy: 1.0000 - dept_out_accuracy: 1.0000 - loss: 3.4162e-04 - val_att_out_accuracy: 0.8145 - val_dept_out_accuracy: 0.9819 - val_loss: 1.6169\n",
            "Epoch 65/100\n",
            "\u001b[1m28/28\u001b[0m \u001b[32m━━━━━━━━━━━━━━━━━━━━\u001b[0m\u001b[37m\u001b[0m \u001b[1m0s\u001b[0m 3ms/step - att_out_accuracy: 1.0000 - dept_out_accuracy: 1.0000 - loss: 3.4864e-04 - val_att_out_accuracy: 0.8145 - val_dept_out_accuracy: 0.9819 - val_loss: 1.6254\n",
            "Epoch 66/100\n",
            "\u001b[1m28/28\u001b[0m \u001b[32m━━━━━━━━━━━━━━━━━━━━\u001b[0m\u001b[37m\u001b[0m \u001b[1m0s\u001b[0m 3ms/step - att_out_accuracy: 1.0000 - dept_out_accuracy: 1.0000 - loss: 3.1993e-04 - val_att_out_accuracy: 0.8145 - val_dept_out_accuracy: 0.9819 - val_loss: 1.6351\n",
            "Epoch 67/100\n",
            "\u001b[1m28/28\u001b[0m \u001b[32m━━━━━━━━━━━━━━━━━━━━\u001b[0m\u001b[37m\u001b[0m \u001b[1m0s\u001b[0m 2ms/step - att_out_accuracy: 1.0000 - dept_out_accuracy: 1.0000 - loss: 3.1029e-04 - val_att_out_accuracy: 0.8145 - val_dept_out_accuracy: 0.9819 - val_loss: 1.6418\n",
            "Epoch 68/100\n",
            "\u001b[1m28/28\u001b[0m \u001b[32m━━━━━━━━━━━━━━━━━━━━\u001b[0m\u001b[37m\u001b[0m \u001b[1m0s\u001b[0m 2ms/step - att_out_accuracy: 1.0000 - dept_out_accuracy: 1.0000 - loss: 3.1495e-04 - val_att_out_accuracy: 0.8145 - val_dept_out_accuracy: 0.9819 - val_loss: 1.6493\n",
            "Epoch 69/100\n",
            "\u001b[1m28/28\u001b[0m \u001b[32m━━━━━━━━━━━━━━━━━━━━\u001b[0m\u001b[37m\u001b[0m \u001b[1m0s\u001b[0m 3ms/step - att_out_accuracy: 1.0000 - dept_out_accuracy: 1.0000 - loss: 2.5491e-04 - val_att_out_accuracy: 0.8145 - val_dept_out_accuracy: 0.9819 - val_loss: 1.6565\n",
            "Epoch 70/100\n",
            "\u001b[1m28/28\u001b[0m \u001b[32m━━━━━━━━━━━━━━━━━━━━\u001b[0m\u001b[37m\u001b[0m \u001b[1m0s\u001b[0m 3ms/step - att_out_accuracy: 1.0000 - dept_out_accuracy: 1.0000 - loss: 3.0703e-04 - val_att_out_accuracy: 0.8145 - val_dept_out_accuracy: 0.9819 - val_loss: 1.6649\n",
            "Epoch 71/100\n",
            "\u001b[1m28/28\u001b[0m \u001b[32m━━━━━━━━━━━━━━━━━━━━\u001b[0m\u001b[37m\u001b[0m \u001b[1m0s\u001b[0m 3ms/step - att_out_accuracy: 1.0000 - dept_out_accuracy: 1.0000 - loss: 2.7754e-04 - val_att_out_accuracy: 0.8145 - val_dept_out_accuracy: 0.9819 - val_loss: 1.6718\n",
            "Epoch 72/100\n",
            "\u001b[1m28/28\u001b[0m \u001b[32m━━━━━━━━━━━━━━━━━━━━\u001b[0m\u001b[37m\u001b[0m \u001b[1m0s\u001b[0m 3ms/step - att_out_accuracy: 1.0000 - dept_out_accuracy: 1.0000 - loss: 2.6974e-04 - val_att_out_accuracy: 0.8145 - val_dept_out_accuracy: 0.9819 - val_loss: 1.6795\n",
            "Epoch 73/100\n",
            "\u001b[1m28/28\u001b[0m \u001b[32m━━━━━━━━━━━━━━━━━━━━\u001b[0m\u001b[37m\u001b[0m \u001b[1m0s\u001b[0m 3ms/step - att_out_accuracy: 1.0000 - dept_out_accuracy: 1.0000 - loss: 2.6635e-04 - val_att_out_accuracy: 0.8145 - val_dept_out_accuracy: 0.9819 - val_loss: 1.6851\n",
            "Epoch 74/100\n",
            "\u001b[1m28/28\u001b[0m \u001b[32m━━━━━━━━━━━━━━━━━━━━\u001b[0m\u001b[37m\u001b[0m \u001b[1m0s\u001b[0m 2ms/step - att_out_accuracy: 1.0000 - dept_out_accuracy: 1.0000 - loss: 2.3852e-04 - val_att_out_accuracy: 0.8190 - val_dept_out_accuracy: 0.9819 - val_loss: 1.6932\n",
            "Epoch 75/100\n",
            "\u001b[1m28/28\u001b[0m \u001b[32m━━━━━━━━━━━━━━━━━━━━\u001b[0m\u001b[37m\u001b[0m \u001b[1m0s\u001b[0m 2ms/step - att_out_accuracy: 1.0000 - dept_out_accuracy: 1.0000 - loss: 2.6390e-04 - val_att_out_accuracy: 0.8145 - val_dept_out_accuracy: 0.9819 - val_loss: 1.7001\n",
            "Epoch 76/100\n",
            "\u001b[1m28/28\u001b[0m \u001b[32m━━━━━━━━━━━━━━━━━━━━\u001b[0m\u001b[37m\u001b[0m \u001b[1m0s\u001b[0m 3ms/step - att_out_accuracy: 1.0000 - dept_out_accuracy: 1.0000 - loss: 2.4090e-04 - val_att_out_accuracy: 0.8190 - val_dept_out_accuracy: 0.9819 - val_loss: 1.7071\n",
            "Epoch 77/100\n",
            "\u001b[1m28/28\u001b[0m \u001b[32m━━━━━━━━━━━━━━━━━━━━\u001b[0m\u001b[37m\u001b[0m \u001b[1m0s\u001b[0m 3ms/step - att_out_accuracy: 1.0000 - dept_out_accuracy: 1.0000 - loss: 2.1619e-04 - val_att_out_accuracy: 0.8145 - val_dept_out_accuracy: 0.9819 - val_loss: 1.7123\n",
            "Epoch 78/100\n",
            "\u001b[1m28/28\u001b[0m \u001b[32m━━━━━━━━━━━━━━━━━━━━\u001b[0m\u001b[37m\u001b[0m \u001b[1m0s\u001b[0m 3ms/step - att_out_accuracy: 1.0000 - dept_out_accuracy: 1.0000 - loss: 2.3314e-04 - val_att_out_accuracy: 0.8145 - val_dept_out_accuracy: 0.9819 - val_loss: 1.7213\n",
            "Epoch 79/100\n",
            "\u001b[1m28/28\u001b[0m \u001b[32m━━━━━━━━━━━━━━━━━━━━\u001b[0m\u001b[37m\u001b[0m \u001b[1m0s\u001b[0m 3ms/step - att_out_accuracy: 1.0000 - dept_out_accuracy: 1.0000 - loss: 1.8384e-04 - val_att_out_accuracy: 0.8190 - val_dept_out_accuracy: 0.9819 - val_loss: 1.7275\n",
            "Epoch 80/100\n",
            "\u001b[1m28/28\u001b[0m \u001b[32m━━━━━━━━━━━━━━━━━━━━\u001b[0m\u001b[37m\u001b[0m \u001b[1m0s\u001b[0m 3ms/step - att_out_accuracy: 1.0000 - dept_out_accuracy: 1.0000 - loss: 1.8266e-04 - val_att_out_accuracy: 0.8145 - val_dept_out_accuracy: 0.9819 - val_loss: 1.7330\n",
            "Epoch 81/100\n",
            "\u001b[1m28/28\u001b[0m \u001b[32m━━━━━━━━━━━━━━━━━━━━\u001b[0m\u001b[37m\u001b[0m \u001b[1m0s\u001b[0m 4ms/step - att_out_accuracy: 1.0000 - dept_out_accuracy: 1.0000 - loss: 1.9342e-04 - val_att_out_accuracy: 0.8145 - val_dept_out_accuracy: 0.9819 - val_loss: 1.7380\n",
            "Epoch 82/100\n",
            "\u001b[1m28/28\u001b[0m \u001b[32m━━━━━━━━━━━━━━━━━━━━\u001b[0m\u001b[37m\u001b[0m \u001b[1m0s\u001b[0m 2ms/step - att_out_accuracy: 1.0000 - dept_out_accuracy: 1.0000 - loss: 1.8261e-04 - val_att_out_accuracy: 0.8145 - val_dept_out_accuracy: 0.9819 - val_loss: 1.7482\n",
            "Epoch 83/100\n",
            "\u001b[1m28/28\u001b[0m \u001b[32m━━━━━━━━━━━━━━━━━━━━\u001b[0m\u001b[37m\u001b[0m \u001b[1m0s\u001b[0m 2ms/step - att_out_accuracy: 1.0000 - dept_out_accuracy: 1.0000 - loss: 1.8262e-04 - val_att_out_accuracy: 0.8145 - val_dept_out_accuracy: 0.9819 - val_loss: 1.7528\n",
            "Epoch 84/100\n",
            "\u001b[1m28/28\u001b[0m \u001b[32m━━━━━━━━━━━━━━━━━━━━\u001b[0m\u001b[37m\u001b[0m \u001b[1m0s\u001b[0m 2ms/step - att_out_accuracy: 1.0000 - dept_out_accuracy: 1.0000 - loss: 1.6230e-04 - val_att_out_accuracy: 0.8190 - val_dept_out_accuracy: 0.9819 - val_loss: 1.7574\n",
            "Epoch 85/100\n",
            "\u001b[1m28/28\u001b[0m \u001b[32m━━━━━━━━━━━━━━━━━━━━\u001b[0m\u001b[37m\u001b[0m \u001b[1m0s\u001b[0m 3ms/step - att_out_accuracy: 1.0000 - dept_out_accuracy: 1.0000 - loss: 1.7472e-04 - val_att_out_accuracy: 0.8190 - val_dept_out_accuracy: 0.9819 - val_loss: 1.7661\n",
            "Epoch 86/100\n",
            "\u001b[1m28/28\u001b[0m \u001b[32m━━━━━━━━━━━━━━━━━━━━\u001b[0m\u001b[37m\u001b[0m \u001b[1m0s\u001b[0m 2ms/step - att_out_accuracy: 1.0000 - dept_out_accuracy: 1.0000 - loss: 1.5707e-04 - val_att_out_accuracy: 0.8235 - val_dept_out_accuracy: 0.9819 - val_loss: 1.7716\n",
            "Epoch 87/100\n",
            "\u001b[1m28/28\u001b[0m \u001b[32m━━━━━━━━━━━━━━━━━━━━\u001b[0m\u001b[37m\u001b[0m \u001b[1m0s\u001b[0m 2ms/step - att_out_accuracy: 1.0000 - dept_out_accuracy: 1.0000 - loss: 1.5154e-04 - val_att_out_accuracy: 0.8190 - val_dept_out_accuracy: 0.9819 - val_loss: 1.7774\n",
            "Epoch 88/100\n",
            "\u001b[1m28/28\u001b[0m \u001b[32m━━━━━━━━━━━━━━━━━━━━\u001b[0m\u001b[37m\u001b[0m \u001b[1m0s\u001b[0m 3ms/step - att_out_accuracy: 1.0000 - dept_out_accuracy: 1.0000 - loss: 1.5003e-04 - val_att_out_accuracy: 0.8190 - val_dept_out_accuracy: 0.9819 - val_loss: 1.7817\n",
            "Epoch 89/100\n",
            "\u001b[1m28/28\u001b[0m \u001b[32m━━━━━━━━━━━━━━━━━━━━\u001b[0m\u001b[37m\u001b[0m \u001b[1m0s\u001b[0m 2ms/step - att_out_accuracy: 1.0000 - dept_out_accuracy: 1.0000 - loss: 1.2694e-04 - val_att_out_accuracy: 0.8190 - val_dept_out_accuracy: 0.9819 - val_loss: 1.7888\n",
            "Epoch 90/100\n",
            "\u001b[1m28/28\u001b[0m \u001b[32m━━━━━━━━━━━━━━━━━━━━\u001b[0m\u001b[37m\u001b[0m \u001b[1m0s\u001b[0m 3ms/step - att_out_accuracy: 1.0000 - dept_out_accuracy: 1.0000 - loss: 1.3614e-04 - val_att_out_accuracy: 0.8190 - val_dept_out_accuracy: 0.9819 - val_loss: 1.7939\n",
            "Epoch 91/100\n",
            "\u001b[1m28/28\u001b[0m \u001b[32m━━━━━━━━━━━━━━━━━━━━\u001b[0m\u001b[37m\u001b[0m \u001b[1m0s\u001b[0m 4ms/step - att_out_accuracy: 1.0000 - dept_out_accuracy: 1.0000 - loss: 1.3054e-04 - val_att_out_accuracy: 0.8190 - val_dept_out_accuracy: 0.9819 - val_loss: 1.8000\n",
            "Epoch 92/100\n",
            "\u001b[1m28/28\u001b[0m \u001b[32m━━━━━━━━━━━━━━━━━━━━\u001b[0m\u001b[37m\u001b[0m \u001b[1m0s\u001b[0m 4ms/step - att_out_accuracy: 1.0000 - dept_out_accuracy: 1.0000 - loss: 1.3550e-04 - val_att_out_accuracy: 0.8190 - val_dept_out_accuracy: 0.9819 - val_loss: 1.8061\n",
            "Epoch 93/100\n",
            "\u001b[1m28/28\u001b[0m \u001b[32m━━━━━━━━━━━━━━━━━━━━\u001b[0m\u001b[37m\u001b[0m \u001b[1m0s\u001b[0m 2ms/step - att_out_accuracy: 1.0000 - dept_out_accuracy: 1.0000 - loss: 1.3150e-04 - val_att_out_accuracy: 0.8190 - val_dept_out_accuracy: 0.9819 - val_loss: 1.8112\n",
            "Epoch 94/100\n",
            "\u001b[1m28/28\u001b[0m \u001b[32m━━━━━━━━━━━━━━━━━━━━\u001b[0m\u001b[37m\u001b[0m \u001b[1m0s\u001b[0m 2ms/step - att_out_accuracy: 1.0000 - dept_out_accuracy: 1.0000 - loss: 1.2928e-04 - val_att_out_accuracy: 0.8190 - val_dept_out_accuracy: 0.9819 - val_loss: 1.8170\n",
            "Epoch 95/100\n",
            "\u001b[1m28/28\u001b[0m \u001b[32m━━━━━━━━━━━━━━━━━━━━\u001b[0m\u001b[37m\u001b[0m \u001b[1m0s\u001b[0m 3ms/step - att_out_accuracy: 1.0000 - dept_out_accuracy: 1.0000 - loss: 1.2725e-04 - val_att_out_accuracy: 0.8190 - val_dept_out_accuracy: 0.9819 - val_loss: 1.8226\n",
            "Epoch 96/100\n",
            "\u001b[1m28/28\u001b[0m \u001b[32m━━━━━━━━━━━━━━━━━━━━\u001b[0m\u001b[37m\u001b[0m \u001b[1m0s\u001b[0m 3ms/step - att_out_accuracy: 1.0000 - dept_out_accuracy: 1.0000 - loss: 1.1952e-04 - val_att_out_accuracy: 0.8190 - val_dept_out_accuracy: 0.9819 - val_loss: 1.8275\n",
            "Epoch 97/100\n",
            "\u001b[1m28/28\u001b[0m \u001b[32m━━━━━━━━━━━━━━━━━━━━\u001b[0m\u001b[37m\u001b[0m \u001b[1m0s\u001b[0m 2ms/step - att_out_accuracy: 1.0000 - dept_out_accuracy: 1.0000 - loss: 1.2404e-04 - val_att_out_accuracy: 0.8190 - val_dept_out_accuracy: 0.9819 - val_loss: 1.8333\n",
            "Epoch 98/100\n",
            "\u001b[1m28/28\u001b[0m \u001b[32m━━━━━━━━━━━━━━━━━━━━\u001b[0m\u001b[37m\u001b[0m \u001b[1m0s\u001b[0m 3ms/step - att_out_accuracy: 1.0000 - dept_out_accuracy: 1.0000 - loss: 1.0111e-04 - val_att_out_accuracy: 0.8190 - val_dept_out_accuracy: 0.9819 - val_loss: 1.8383\n",
            "Epoch 99/100\n",
            "\u001b[1m28/28\u001b[0m \u001b[32m━━━━━━━━━━━━━━━━━━━━\u001b[0m\u001b[37m\u001b[0m \u001b[1m0s\u001b[0m 3ms/step - att_out_accuracy: 1.0000 - dept_out_accuracy: 1.0000 - loss: 1.2520e-04 - val_att_out_accuracy: 0.8190 - val_dept_out_accuracy: 0.9819 - val_loss: 1.8452\n",
            "Epoch 100/100\n",
            "\u001b[1m28/28\u001b[0m \u001b[32m━━━━━━━━━━━━━━━━━━━━\u001b[0m\u001b[37m\u001b[0m \u001b[1m0s\u001b[0m 3ms/step - att_out_accuracy: 1.0000 - dept_out_accuracy: 1.0000 - loss: 9.1324e-05 - val_att_out_accuracy: 0.8190 - val_dept_out_accuracy: 0.9819 - val_loss: 1.8504\n"
          ]
        },
        {
          "data": {
            "text/plain": [
              "<keras.src.callbacks.history.History at 0x15f51e10df0>"
            ]
          },
          "execution_count": 149,
          "metadata": {},
          "output_type": "execute_result"
        }
      ],
      "source": [
        "# Train the model\n",
        "model.fit(X_train_scaled,\n",
        "          {'dept_out': y_dept_train, 'att_out': y_att_train},\n",
        "          epochs=100,\n",
        "          batch_size=32,\n",
        "          validation_split=0.2)\n"
      ]
    },
    {
      "cell_type": "code",
      "execution_count": 150,
      "metadata": {
        "colab": {
          "base_uri": "https://localhost:8080/"
        },
        "id": "VsMoaQlgGc3U",
        "outputId": "1bd4e601-e964-4abc-ad83-aeecf6b696be"
      },
      "outputs": [
        {
          "name": "stdout",
          "output_type": "stream",
          "text": [
            "\u001b[1m12/12\u001b[0m \u001b[32m━━━━━━━━━━━━━━━━━━━━\u001b[0m\u001b[37m\u001b[0m \u001b[1m0s\u001b[0m 1ms/step - att_out_accuracy: 0.7829 - dept_out_accuracy: 0.9751 - loss: 2.2341 \n"
          ]
        },
        {
          "data": {
            "text/plain": [
              "[1.9615750312805176, 0.8179348111152649, 0.967391312122345]"
            ]
          },
          "metadata": {},
          "output_type": "display_data"
        }
      ],
      "source": [
        "# Evaluate the model with the testing data\n",
        "test_results = model.evaluate(X_test_scaled, {'dept_out': y_dept_test, 'att_out': y_att_test})\n",
        "display(test_results)"
      ]
    },
    {
      "cell_type": "code",
      "execution_count": 151,
      "metadata": {
        "colab": {
          "base_uri": "https://localhost:8080/"
        },
        "id": "ZlCtlHi0Vt54",
        "outputId": "bc21ef3e-80c2-4b38-9c29-79515bc23dec"
      },
      "outputs": [
        {
          "name": "stdout",
          "output_type": "stream",
          "text": [
            "Department predictions accuracy: 0.818\n",
            "Attrition predictions accuracy: 0.967\n"
          ]
        }
      ],
      "source": [
        "# Print the accuracy for both department and attrition\n",
        "print(f\"Department predictions accuracy: {test_results[1]:.3f}\")\n",
        "print(f\"Attrition predictions accuracy: {test_results[2]:.3f}\")"
      ]
    },
    {
      "cell_type": "markdown",
      "metadata": {
        "id": "eGSyfsZfWOQM"
      },
      "source": [
        "# Summary\n",
        "\n",
        "In the provided space below, briefly answer the following questions.\n",
        "\n",
        "1. Is accuracy the best metric to use on this data? Why or why not?\n",
        "\n",
        "2. What activation functions did you choose for your output layers, and why?\n",
        "\n",
        "3. Can you name a few ways that this model might be improved?"
      ]
    },
    {
      "cell_type": "markdown",
      "metadata": {
        "id": "pi9SLpFnWvbF"
      },
      "source": [
        "YOUR ANSWERS HERE\n",
        "\n",
        "1. No. The target categories for both 'Department' and 'Attrition' are very unbalanced since the number of elements in each category is very different. A better metric to use would be the balanced accuracy.\n",
        "2. Since there are three different departments, we have to use an activation function that can handle multi-class classification. Therefore, we chose `softmax` as the activation function to predict the department.  \n",
        "There are only two categories for attrition. Therefore, the `sigmoid` activation function is appropriate to use.\n",
        "3. The model is overfitting, especially when predicting the 'Attrition'. This is evident by the large difference between the train accuracy (of 1.0) and the test accuracy (of 0.82). It is also evident in the large loss value.  \n",
        "To improve the overfitting, we would start performing a p-values and a PCA analysis to see whether we can reduce the number of input features when building the model. We can also try to optimize the parameters of the model itself."
      ]
    }
  ],
  "metadata": {
    "colab": {
      "provenance": []
    },
    "kernelspec": {
      "display_name": "Python 3",
      "language": "python",
      "name": "python3"
    },
    "language_info": {
      "codemirror_mode": {
        "name": "ipython",
        "version": 3
      },
      "file_extension": ".py",
      "mimetype": "text/x-python",
      "name": "python",
      "nbconvert_exporter": "python",
      "pygments_lexer": "ipython3",
      "version": "3.10.13"
    },
    "vscode": {
      "interpreter": {
        "hash": "31f2aee4e71d21fbe5cf8b01ff0e069b9275f58929596ceb00d14d90e3e16cd6"
      }
    }
  },
  "nbformat": 4,
  "nbformat_minor": 0
}
